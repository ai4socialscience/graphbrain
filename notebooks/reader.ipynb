{
 "cells": [
  {
   "cell_type": "markdown",
   "metadata": {},
   "source": [
    "# Graphbrain reader\n",
    "\n",
    "This notebook is a simple demonstration of the Graphbrain reader, which transforms a sentence in natural language into an hyperedge."
   ]
  },
  {
   "cell_type": "code",
   "execution_count": 1,
   "metadata": {},
   "outputs": [],
   "source": [
    "# simple functions to interact with Graphbrain from notebooks\n",
    "from gb.notebook import *\n",
    "# the reader\n",
    "from gb.reader.reader import Reader"
   ]
  },
  {
   "cell_type": "code",
   "execution_count": 2,
   "metadata": {},
   "outputs": [],
   "source": [
    "# create the reader object\n",
    "reader = Reader(hg=None, lang='en')"
   ]
  },
  {
   "cell_type": "markdown",
   "metadata": {},
   "source": [
    "**Note**: The first time the cell bellow is run, the reader is initalized. This can take a from few seconds to a minute."
   ]
  },
  {
   "cell_type": "code",
   "execution_count": 3,
   "metadata": {
    "scrolled": true
   },
   "outputs": [
    {
     "data": {
      "text/html": [
       "<div style=\"margin-left:0px;color:#008cff\"><span style=\"font-size:14pt\">(</span><div style=\"margin-left:20px;color:#891100\"><span style=\"font-size:13pt\">(</span><span style=\"font-size:13pt\"><span style=\"font-weight:bold\">have</span><span style=\"color:#9F9F8F;font-size:7pt\">/nlp.have.verb</span></span> <div style=\"margin-left:20px;color:#028401\"><span style=\"font-size:12pt\">(</span><span style=\"font-size:12pt\"><span style=\"font-weight:bold\">been</span><span style=\"color:#9F9F8F;font-size:7pt\">/nlp.be.verb</span></span> <span style=\"font-size:12pt\"><span style=\"font-weight:bold\">tracking</span><span style=\"color:#9F9F8F;font-size:7pt\">/nlp.track.verb</span></span><span style=\"color:#028401\"><span style=\"font-size:12pt\">)</span></span><span style=\"color:#891100\"><span style=\"font-size:13pt\">)</span></span></div></div> <div style=\"margin-left:20px;color:#891100\"><span style=\"font-size:13pt\">(</span><span style=\"font-size:13pt\"><span style=\"font-weight:bold\">+</span><span style=\"color:#9F9F8F;font-size:7pt\">/gb</span></span> <span style=\"font-size:13pt\"><span style=\"font-weight:bold\">from</span><span style=\"color:#9F9F8F;font-size:7pt\">/nlp.from.adp</span></span> <span style=\"font-size:13pt\"><span style=\"font-weight:bold\">satellites</span><span style=\"color:#9F9F8F;font-size:7pt\">/nlp.satellite.noun</span></span> <div style=\"margin-left:20px;color:#028401\"><span style=\"font-size:12pt\">(</span><span style=\"font-size:12pt\"><span style=\"font-weight:bold\">+</span><span style=\"color:#9F9F8F;font-size:7pt\">/gb</span></span> <span style=\"font-size:12pt\"><span style=\"font-weight:bold\">and</span><span style=\"color:#9F9F8F;font-size:7pt\">/nlp.and.cconj</span></span> <span style=\"font-size:12pt\"><span style=\"font-weight:bold\">nasa</span><span style=\"color:#9F9F8F;font-size:7pt\">/nlp.nasa.propn</span></span> <div style=\"margin-left:20px;color:#002eff\"><span style=\"font-size:11pt\">(</span><span style=\"font-size:11pt\"><span style=\"font-weight:bold\">+</span><span style=\"color:#9F9F8F;font-size:7pt\">/gb</span></span> <span style=\"font-size:11pt\"><span style=\"font-weight:bold\">other</span><span style=\"color:#9F9F8F;font-size:7pt\">/nlp.other.adj</span></span> <span style=\"font-size:11pt\"><span style=\"font-weight:bold\">agencies</span><span style=\"color:#9F9F8F;font-size:7pt\">/nlp.agency.noun</span></span><span style=\"color:#002eff\"><span style=\"font-size:11pt\">)</span></span><span style=\"color:#028401\"><span style=\"font-size:12pt\">)</span></span><span style=\"color:#891100\"><span style=\"font-size:13pt\">)</span></span></div></div></div> <div style=\"margin-left:20px;color:#891100\"><span style=\"font-size:13pt\">(</span><span style=\"font-size:13pt\"><span style=\"font-weight:bold\">+</span><span style=\"color:#9F9F8F;font-size:7pt\">/gb</span></span> <span style=\"font-size:13pt\"><span style=\"font-weight:bold\">sea</span><span style=\"color:#9F9F8F;font-size:7pt\">/nlp.sea.noun</span></span> <span style=\"font-size:13pt\"><span style=\"font-weight:bold\">ice</span><span style=\"color:#9F9F8F;font-size:7pt\">/nlp.ice.noun</span></span> <span style=\"font-size:13pt\"><span style=\"font-weight:bold\">changes</span><span style=\"color:#9F9F8F;font-size:7pt\">/nlp.change.noun</span></span><span style=\"color:#891100\"><span style=\"font-size:13pt\">)</span></span></div> <div style=\"margin-left:20px;color:#891100\"><span style=\"font-size:13pt\">(</span><span style=\"font-size:13pt\"><span style=\"font-weight:bold\">+</span><span style=\"color:#9F9F8F;font-size:7pt\">/gb</span></span> <span style=\"font-size:13pt\"><span style=\"font-weight:bold\">since</span><span style=\"color:#9F9F8F;font-size:7pt\">/nlp.since.adp</span></span> <span style=\"font-size:13pt\"><span style=\"font-weight:bold\">1979</span><span style=\"color:#9F9F8F;font-size:7pt\">/nlp.1979.num</span></span><span style=\"color:#891100\"><span style=\"font-size:13pt\">)</span></span><span style=\"color:#008cff\"><span style=\"font-size:14pt\">)</span></span></div></div>"
      ],
      "text/plain": [
       "<IPython.core.display.HTML object>"
      ]
     },
     "metadata": {},
     "output_type": "display_data"
    }
   ],
   "source": [
    "# change to whatever you like...\n",
    "text = \"\"\"\n",
    "Satellites from NASA and other agencies have been tracking sea ice changes since 1979.\n",
    "\"\"\"\n",
    "\n",
    "namespaces = False\n",
    "show_stages = False\n",
    "\n",
    "read_and_show(reader, text, namespaces=namespaces, show_stages=show_stages)"
   ]
  }
 ],
 "metadata": {
  "kernelspec": {
   "display_name": "Python 3",
   "language": "python",
   "name": "python3"
  },
  "language_info": {
   "codemirror_mode": {
    "name": "ipython",
    "version": 3
   },
   "file_extension": ".py",
   "mimetype": "text/x-python",
   "name": "python",
   "nbconvert_exporter": "python",
   "pygments_lexer": "ipython3",
   "version": "3.6.5"
  }
 },
 "nbformat": 4,
 "nbformat_minor": 2
}
