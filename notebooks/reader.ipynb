{
 "cells": [
  {
   "cell_type": "markdown",
   "metadata": {},
   "source": [
    "# Graphbrain reader\n",
    "\n",
    "This notebook is a simple demonstration of the Graphbrain reader, which transforms a sentence in natural language into an hyperedge."
   ]
  },
  {
   "cell_type": "code",
   "execution_count": 1,
   "metadata": {},
   "outputs": [],
   "source": [
    "# simple functions to interact with Graphbrain from notebooks\n",
    "from gb.notebook import *\n",
    "# the reader\n",
    "from gb.reader.reader import Reader"
   ]
  },
  {
   "cell_type": "code",
   "execution_count": 2,
   "metadata": {},
   "outputs": [],
   "source": [
    "# create the reader object\n",
    "reader = Reader(lang='en')"
   ]
  },
  {
   "cell_type": "markdown",
   "metadata": {},
   "source": [
    "**Note**: The first time the cell bellow is run, the reader is initalized. This can take a from few seconds to a minute."
   ]
  },
  {
   "cell_type": "code",
   "execution_count": 3,
   "metadata": {
    "scrolled": true
   },
   "outputs": [
    {
     "data": {
      "text/html": [
       "<span style=\"color:#a65628\"><span style=\"font-weight:bold;font-size:14pt\">(</span><span style=\"color:#377eb8\"><span style=\"font-weight:bold;font-size:13pt\">(</span><span style=\"font-size:13pt\"><span style=\"font-weight:bold;color:#377eb8\">have</span></span> <span style=\"color:#4daf4a\"><span style=\"font-weight:bold;font-size:12pt\">(</span><span style=\"font-size:12pt\"><span style=\"font-weight:bold;color:#4daf4a\">been</span></span> <span style=\"font-size:12pt\"><span style=\"font-weight:bold;color:#404040\">tracking</span></span><span style=\"color:#4daf4a\"><span style=\"font-weight:bold;font-size:12pt\">)</span></span><span style=\"color:#377eb8\"><span style=\"font-weight:bold;font-size:13pt\">)</span></span></div></div> <div style=\"margin-left:20px;color:#377eb8\"><span style=\"font-weight:bold;font-size:13pt\">(</span><span style=\"font-size:13pt\"><span style=\"font-weight:bold;color:#377eb8\">+</span></span> <span style=\"font-size:13pt\"><span style=\"color:#404040\">from</span></span> <span style=\"font-size:13pt\"><span style=\"color:#404040\">satellites</span></span> <div style=\"margin-left:20px;color:#4daf4a\"><span style=\"font-weight:bold;font-size:12pt\">(</span><span style=\"font-size:12pt\"><span style=\"font-weight:bold;color:#4daf4a\">+</span></span> <span style=\"font-size:12pt\"><span style=\"color:#404040\">and</span></span> <span style=\"font-size:12pt\"><span style=\"color:#404040\">nasa</span></span> <div style=\"margin-left:20px;color:#984ea3\"><span style=\"font-weight:bold;font-size:11pt\">(</span><span style=\"font-size:11pt\"><span style=\"font-weight:bold;color:#984ea3\">+</span></span> <span style=\"font-size:11pt\"><span style=\"color:#404040\">other</span></span> <span style=\"font-size:11pt\"><span style=\"color:#404040\">agencies</span></span><span style=\"color:#984ea3\"><span style=\"font-weight:bold;font-size:11pt\">)</span></span><span style=\"color:#4daf4a\"><span style=\"font-weight:bold;font-size:12pt\">)</span></span><span style=\"color:#377eb8\"><span style=\"font-weight:bold;font-size:13pt\">)</span></span></div></div></div> <div style=\"margin-left:20px;color:#377eb8\"><span style=\"font-weight:bold;font-size:13pt\">(</span><span style=\"font-size:13pt\"><span style=\"font-weight:bold;color:#377eb8\">+</span></span> <span style=\"font-size:13pt\"><span style=\"color:#404040\">sea</span></span> <span style=\"font-size:13pt\"><span style=\"color:#404040\">ice</span></span> <span style=\"font-size:13pt\"><span style=\"color:#404040\">changes</span></span><span style=\"color:#377eb8\"><span style=\"font-weight:bold;font-size:13pt\">)</span></span></div> <div style=\"margin-left:20px;color:#377eb8\"><span style=\"font-weight:bold;font-size:13pt\">(</span><span style=\"font-size:13pt\"><span style=\"font-weight:bold;color:#377eb8\">+</span></span> <span style=\"font-size:13pt\"><span style=\"color:#404040\">since</span></span> <span style=\"font-size:13pt\"><span style=\"color:#404040\">1979</span></span><span style=\"color:#377eb8\"><span style=\"font-weight:bold;font-size:13pt\">)</span></span><span style=\"color:#a65628\"><span style=\"font-weight:bold;font-size:14pt\">)</span></span></div></div>"
      ],
      "text/plain": [
       "<IPython.core.display.HTML object>"
      ]
     },
     "metadata": {},
     "output_type": "display_data"
    }
   ],
   "source": [
    "# change to whatever you like...\n",
    "text = \"\"\"\n",
    "Satellites from NASA and other agencies have been tracking sea ice changes since 1979.\n",
    "\"\"\"\n",
    "\n",
    "namespaces = False\n",
    "compact = False\n",
    "show_stages = False\n",
    "\n",
    "read_and_show(reader, text, namespaces=namespaces, compact=compact, show_stages=show_stages)"
   ]
  }
 ],
 "metadata": {
  "kernelspec": {
   "display_name": "Python 3",
   "language": "python",
   "name": "python3"
  },
  "language_info": {
   "codemirror_mode": {
    "name": "ipython",
    "version": 3
   },
   "file_extension": ".py",
   "mimetype": "text/x-python",
   "name": "python",
   "nbconvert_exporter": "python",
   "pygments_lexer": "ipython3",
   "version": "3.6.5"
  }
 },
 "nbformat": 4,
 "nbformat_minor": 2
}
