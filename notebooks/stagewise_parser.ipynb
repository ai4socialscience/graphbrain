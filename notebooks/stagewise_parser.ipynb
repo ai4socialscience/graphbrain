{
 "cells": [
  {
   "cell_type": "markdown",
   "metadata": {},
   "source": [
    "# Graphbrain stagewise parser\n",
    "\n",
    "This notebook is a simple demonstration of the Graphbrain stagewise parser, which transforms a sentence in natural language into an hyperedge."
   ]
  },
  {
   "cell_type": "code",
   "execution_count": 2,
   "metadata": {},
   "outputs": [],
   "source": [
    "# simple functions to interact with Graphbrain from notebooks\n",
    "from graphbrain.notebook import *\n",
    "# the reader\n",
    "from graphbrain.parsers import StagewiseParser"
   ]
  },
  {
   "cell_type": "code",
   "execution_count": 3,
   "metadata": {},
   "outputs": [],
   "source": [
    "# create the parser object\n",
    "parser = StagewiseParser(lang='en')"
   ]
  },
  {
   "cell_type": "markdown",
   "metadata": {},
   "source": [
    "**Note**: The first time the cell bellow is run, the parser is initalized. This can take from a few seconds to a minute."
   ]
  },
  {
   "cell_type": "code",
   "execution_count": 138,
   "metadata": {
    "scrolled": true
   },
   "outputs": [
    {
     "data": {
      "text/html": [
       "<h3>Parse Tree</h3>"
      ],
      "text/plain": [
       "<IPython.core.display.HTML object>"
      ]
     },
     "metadata": {},
     "output_type": "display_data"
    },
    {
     "name": "stdout",
     "output_type": "stream",
     "text": [
      "[*]is/be/VERB/VBZ (ROOT) {} [1]\n",
      " +-- [L]what/what/NOUN/WP (attr) {} [0]\n",
      " +-- [R]name/name/NOUN/NN (nsubj) {} [3]\n",
      " |   +-- [L]your/-PRON-/ADJ/PRP$ (poss) {} [2]\n",
      " +-- [R]?/?/PUNCT/. (punct) {} [4]\n"
     ]
    },
    {
     "data": {
      "text/html": [
       "<h3>stage #1: hypergen-forest</h3>"
      ],
      "text/plain": [
       "<IPython.core.display.HTML object>"
      ]
     },
     "metadata": {},
     "output_type": "display_data"
    },
    {
     "data": {
      "text/html": [
       "<span style=\"color:#a65628\"><span style=\"font-weight:bold;font-size:11pt\">(</span><span style=\"font-size:11pt\"><span style=\"font-weight:bold;color:#a65628\">what</span></span> <span style=\"font-size:11pt\"><span style=\"color:#404040\">is</span></span> <span style=\"color:#377eb8\"><span style=\"font-weight:bold;font-size:11pt\">(</span><span style=\"font-size:11pt\"><span style=\"font-weight:bold;color:#377eb8\">your</span></span> <span style=\"font-size:11pt\"><span style=\"color:#404040\">name</span></span><span style=\"color:#377eb8\"><span style=\"font-weight:bold;font-size:11pt\">)</span></span><span style=\"color:#a65628\"><span style=\"font-weight:bold;font-size:11pt\">)</span></span></span></span>"
      ],
      "text/plain": [
       "<IPython.core.display.HTML object>"
      ]
     },
     "metadata": {},
     "output_type": "display_data"
    },
    {
     "data": {
      "text/html": [
       "<h3>stage #2: disamb-naive</h3>"
      ],
      "text/plain": [
       "<IPython.core.display.HTML object>"
      ]
     },
     "metadata": {},
     "output_type": "display_data"
    },
    {
     "data": {
      "text/html": [
       "<span style=\"color:#a65628\"><span style=\"font-weight:bold;font-size:11pt\">(</span><span style=\"font-size:11pt\"><span style=\"font-weight:bold;color:#a65628\">what</span></span> <span style=\"font-size:11pt\"><span style=\"color:#404040\">is</span></span> <span style=\"color:#377eb8\"><span style=\"font-weight:bold;font-size:11pt\">(</span><span style=\"font-size:11pt\"><span style=\"font-weight:bold;color:#377eb8\">your</span></span> <span style=\"font-size:11pt\"><span style=\"color:#404040\">name</span></span><span style=\"color:#377eb8\"><span style=\"font-weight:bold;font-size:11pt\">)</span></span><span style=\"color:#a65628\"><span style=\"font-weight:bold;font-size:11pt\">)</span></span></span></span>"
      ],
      "text/plain": [
       "<IPython.core.display.HTML object>"
      ]
     },
     "metadata": {},
     "output_type": "display_data"
    },
    {
     "data": {
      "text/html": [
       "<h3>stage #3: merge</h3>"
      ],
      "text/plain": [
       "<IPython.core.display.HTML object>"
      ]
     },
     "metadata": {},
     "output_type": "display_data"
    },
    {
     "data": {
      "text/html": [
       "<span style=\"color:#a65628\"><span style=\"font-weight:bold;font-size:11pt\">(</span><span style=\"font-size:11pt\"><span style=\"font-weight:bold;color:#a65628\">what</span></span> <span style=\"font-size:11pt\"><span style=\"color:#404040\">is</span></span> <span style=\"color:#377eb8\"><span style=\"font-weight:bold;font-size:11pt\">(</span><span style=\"font-size:11pt\"><span style=\"font-weight:bold;color:#377eb8\">your</span></span> <span style=\"font-size:11pt\"><span style=\"color:#404040\">name</span></span><span style=\"color:#377eb8\"><span style=\"font-weight:bold;font-size:11pt\">)</span></span><span style=\"color:#a65628\"><span style=\"font-weight:bold;font-size:11pt\">)</span></span></span></span>"
      ],
      "text/plain": [
       "<IPython.core.display.HTML object>"
      ]
     },
     "metadata": {},
     "output_type": "display_data"
    },
    {
     "data": {
      "text/html": [
       "<h3>stage #4: shallow</h3>"
      ],
      "text/plain": [
       "<IPython.core.display.HTML object>"
      ]
     },
     "metadata": {},
     "output_type": "display_data"
    },
    {
     "data": {
      "text/html": [
       "<span style=\"color:#a65628\"><span style=\"font-weight:bold;font-size:11pt\">(</span><span style=\"font-size:11pt\"><span style=\"font-weight:bold;color:#a65628\">what</span></span> <span style=\"font-size:11pt\"><span style=\"color:#404040\">is</span></span> <span style=\"color:#377eb8\"><span style=\"font-weight:bold;font-size:11pt\">(</span><span style=\"font-size:11pt\"><span style=\"font-weight:bold;color:#377eb8\">your</span></span> <span style=\"font-size:11pt\"><span style=\"color:#404040\">name</span></span><span style=\"color:#377eb8\"><span style=\"font-weight:bold;font-size:11pt\">)</span></span><span style=\"color:#a65628\"><span style=\"font-weight:bold;font-size:11pt\">)</span></span></span></span>"
      ],
      "text/plain": [
       "<IPython.core.display.HTML object>"
      ]
     },
     "metadata": {},
     "output_type": "display_data"
    },
    {
     "data": {
      "text/html": [
       "<h3>stage #5: concepts</h3>"
      ],
      "text/plain": [
       "<IPython.core.display.HTML object>"
      ]
     },
     "metadata": {},
     "output_type": "display_data"
    },
    {
     "data": {
      "text/html": [
       "<span style=\"color:#a65628\"><span style=\"font-weight:bold;font-size:11pt\">(</span><span style=\"font-size:11pt\"><span style=\"font-weight:bold;color:#a65628\">+</span></span> <span style=\"font-size:11pt\"><span style=\"color:#404040\">what</span></span> <span style=\"font-size:11pt\"><span style=\"color:#404040\">is</span></span> <span style=\"color:#377eb8\"><span style=\"font-weight:bold;font-size:11pt\">(</span><span style=\"font-size:11pt\"><span style=\"font-weight:bold;color:#377eb8\">+</span></span> <span style=\"font-size:11pt\"><span style=\"color:#404040\">your</span></span> <span style=\"font-size:11pt\"><span style=\"color:#404040\">name</span></span><span style=\"color:#377eb8\"><span style=\"font-weight:bold;font-size:11pt\">)</span></span><span style=\"color:#a65628\"><span style=\"font-weight:bold;font-size:11pt\">)</span></span></span></span>"
      ],
      "text/plain": [
       "<IPython.core.display.HTML object>"
      ]
     },
     "metadata": {},
     "output_type": "display_data"
    },
    {
     "data": {
      "text/html": [
       "<span style=\"color:#a65628\"><span style=\"font-weight:bold;font-size:14pt\">(</span><span style=\"font-size:14pt\"><span style=\"font-weight:bold;color:#a65628\">+</span></span> <span style=\"font-size:14pt\"><span style=\"color:#404040\">what</span></span> <span style=\"font-size:14pt\"><span style=\"color:#404040\">is</span></span> <div style=\"margin-left:20px;color:#377eb8\"><span style=\"font-weight:bold;font-size:13pt\">(</span><span style=\"font-size:13pt\"><span style=\"font-weight:bold;color:#377eb8\">+</span></span> <span style=\"font-size:13pt\"><span style=\"color:#404040\">your</span></span> <span style=\"font-size:13pt\"><span style=\"color:#404040\">name</span></span><span style=\"color:#377eb8\"><span style=\"font-weight:bold;font-size:13pt\">)</span></span><span style=\"color:#a65628\"><span style=\"font-weight:bold;font-size:14pt\">)</span></span></div></div>"
      ],
      "text/plain": [
       "<IPython.core.display.HTML object>"
      ]
     },
     "metadata": {},
     "output_type": "display_data"
    }
   ],
   "source": [
    "# change to whatever you like...\n",
    "text = \"\"\"\n",
    "Satellites from NASA and other agencies have been tracking sea ice changes since 1979.\n",
    "\"\"\"\n",
    "\n",
    "text = \"\"\"\n",
    "What is your name?\n",
    "\"\"\"\n",
    "\n",
    "namespaces = False \n",
    "compact = False\n",
    "show_stages = True\n",
    "\n",
    "read_and_show(parser, text, namespaces=namespaces, compact=compact, show_stages=show_stages)"
   ]
  },
  {
   "cell_type": "code",
   "execution_count": null,
   "metadata": {},
   "outputs": [],
   "source": []
  }
 ],
 "metadata": {
  "kernelspec": {
   "display_name": "Python 3",
   "language": "python",
   "name": "python3"
  },
  "language_info": {
   "codemirror_mode": {
    "name": "ipython",
    "version": 3
   },
   "file_extension": ".py",
   "mimetype": "text/x-python",
   "name": "python",
   "nbconvert_exporter": "python",
   "pygments_lexer": "ipython3",
   "version": "3.6.5"
  }
 },
 "nbformat": 4,
 "nbformat_minor": 2
}
