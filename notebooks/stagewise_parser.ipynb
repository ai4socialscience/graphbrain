{
 "cells": [
  {
   "cell_type": "markdown",
   "metadata": {},
   "source": [
    "# Graphbrain stagewise parser\n",
    "\n",
    "This notebook is a simple demonstration of the Graphbrain stagewise parser, which transforms a sentence in natural language into an hyperedge."
   ]
  },
  {
   "cell_type": "code",
   "execution_count": 1,
   "metadata": {},
   "outputs": [],
   "source": [
    "# simple functions to interact with Graphbrain from notebooks\n",
    "from graphbrain.notebook import *\n",
    "# the reader\n",
    "from graphbrain.parsers import StagewiseParser"
   ]
  },
  {
   "cell_type": "code",
   "execution_count": 2,
   "metadata": {},
   "outputs": [],
   "source": [
    "# create the parser object\n",
    "parser = StagewiseParser(lang='en')"
   ]
  },
  {
   "cell_type": "markdown",
   "metadata": {},
   "source": [
    "**Note**: The first time the cell bellow is run, the parser is initalized. This can take from a few seconds to a minute."
   ]
  },
  {
   "cell_type": "code",
   "execution_count": 9,
   "metadata": {
    "scrolled": true
   },
   "outputs": [
    {
     "data": {
      "text/html": [
       "<h3>Parse Tree</h3>"
      ],
      "text/plain": [
       "<IPython.core.display.HTML object>"
      ]
     },
     "metadata": {},
     "output_type": "display_data"
    },
    {
     "name": "stdout",
     "output_type": "stream",
     "text": [
      "[*]tracking/track/VERB/VBG (ROOT) {} [8]\n",
      " +-- [L]satellites/satellite/NOUN/NNS (nsubj) {} [0]\n",
      " |   +-- [R]from/from/ADP/IN (prep) {} [1]\n",
      " |       +-- [R]nasa/nasa/PROPN/NNP (pobj) {ORG} [2]\n",
      " |           +-- [R]and/and/CCONJ/CC (cc) {} [3]\n",
      " |           +-- [R]agencies/agency/NOUN/NNS (conj) {} [5]\n",
      " |               +-- [L]other/other/ADJ/JJ (amod) {} [4]\n",
      " +-- [L]have/have/VERB/VBP (aux) {} [6]\n",
      " +-- [L]been/be/VERB/VBN (aux) {} [7]\n",
      " +-- [R]changes/change/NOUN/NNS (dobj) {} [11]\n",
      " |   +-- [L]ice/ice/NOUN/NN (compound) {} [10]\n",
      " |       +-- [L]sea/sea/NOUN/NN (compound) {} [9]\n",
      " +-- [R]since/since/ADP/IN (prep) {} [12]\n",
      " |   +-- [R]1979/1979/NUM/CD (pobj) {DATE} [13]\n",
      " +-- [R]././PUNCT/. (punct) {} [14]\n"
     ]
    },
    {
     "data": {
      "text/html": [
       "<h3>stage #1: hypergen-forest</h3>"
      ],
      "text/plain": [
       "<IPython.core.display.HTML object>"
      ]
     },
     "metadata": {},
     "output_type": "display_data"
    },
    {
     "data": {
      "text/html": [
       "<span style=\"color:#a65628\"><span style=\"font-weight:bold;font-size:11pt\">(</span><span style=\"color:#377eb8\"><span style=\"font-weight:bold;font-size:11pt\">(</span><span style=\"font-size:11pt\"><span style=\"font-weight:bold;color:#377eb8\">have</span></span> <span style=\"color:#4daf4a\"><span style=\"font-weight:bold;font-size:11pt\">(</span><span style=\"font-size:11pt\"><span style=\"font-weight:bold;color:#4daf4a\">been</span></span> <span style=\"font-size:11pt\"><span style=\"font-weight:bold;color:#404040\">tracking</span></span><span style=\"color:#4daf4a\"><span style=\"font-weight:bold;font-size:11pt\">)</span></span><span style=\"color:#377eb8\"><span style=\"font-weight:bold;font-size:11pt\">)</span></span></span></span> <span style=\"color:#377eb8\"><span style=\"font-weight:bold;font-size:11pt\">(</span><span style=\"font-size:11pt\"><span style=\"font-weight:bold;color:#377eb8\">from</span></span> <span style=\"font-size:11pt\"><span style=\"color:#404040\">satellites</span></span> <span style=\"color:#4daf4a\"><span style=\"font-weight:bold;font-size:11pt\">(</span><span style=\"font-size:11pt\"><span style=\"font-weight:bold;color:#4daf4a\">and</span></span> <span style=\"font-size:11pt\"><span style=\"color:#404040\">nasa</span></span> <span style=\"color:#984ea3\"><span style=\"font-weight:bold;font-size:11pt\">(</span><span style=\"font-size:11pt\"><span style=\"font-weight:bold;color:#984ea3\">other</span></span> <span style=\"font-size:11pt\"><span style=\"color:#404040\">agencies</span></span><span style=\"color:#984ea3\"><span style=\"font-weight:bold;font-size:11pt\">)</span></span><span style=\"color:#4daf4a\"><span style=\"font-weight:bold;font-size:11pt\">)</span></span><span style=\"color:#377eb8\"><span style=\"font-weight:bold;font-size:11pt\">)</span></span></span></span></span> <span style=\"color:#377eb8\"><span style=\"font-weight:bold;font-size:11pt\">(</span><span style=\"font-size:11pt\"><span style=\"font-weight:bold;color:#377eb8\">sea</span></span> <span style=\"font-size:11pt\"><span style=\"color:#404040\">ice</span></span> <span style=\"font-size:11pt\"><span style=\"color:#404040\">changes</span></span><span style=\"color:#377eb8\"><span style=\"font-weight:bold;font-size:11pt\">)</span></span></span> <span style=\"color:#377eb8\"><span style=\"font-weight:bold;font-size:11pt\">(</span><span style=\"font-size:11pt\"><span style=\"font-weight:bold;color:#377eb8\">since</span></span> <span style=\"font-size:11pt\"><span style=\"color:#404040\">1979</span></span><span style=\"color:#377eb8\"><span style=\"font-weight:bold;font-size:11pt\">)</span></span><span style=\"color:#a65628\"><span style=\"font-weight:bold;font-size:11pt\">)</span></span></span></span>"
      ],
      "text/plain": [
       "<IPython.core.display.HTML object>"
      ]
     },
     "metadata": {},
     "output_type": "display_data"
    },
    {
     "data": {
      "text/html": [
       "<h3>stage #2: disamb-naive</h3>"
      ],
      "text/plain": [
       "<IPython.core.display.HTML object>"
      ]
     },
     "metadata": {},
     "output_type": "display_data"
    },
    {
     "data": {
      "text/html": [
       "<span style=\"color:#a65628\"><span style=\"font-weight:bold;font-size:11pt\">(</span><span style=\"color:#377eb8\"><span style=\"font-weight:bold;font-size:11pt\">(</span><span style=\"font-size:11pt\"><span style=\"font-weight:bold;color:#377eb8\">have</span></span> <span style=\"color:#4daf4a\"><span style=\"font-weight:bold;font-size:11pt\">(</span><span style=\"font-size:11pt\"><span style=\"font-weight:bold;color:#4daf4a\">been</span></span> <span style=\"font-size:11pt\"><span style=\"font-weight:bold;color:#404040\">tracking</span></span><span style=\"color:#4daf4a\"><span style=\"font-weight:bold;font-size:11pt\">)</span></span><span style=\"color:#377eb8\"><span style=\"font-weight:bold;font-size:11pt\">)</span></span></span></span> <span style=\"color:#377eb8\"><span style=\"font-weight:bold;font-size:11pt\">(</span><span style=\"font-size:11pt\"><span style=\"font-weight:bold;color:#377eb8\">from</span></span> <span style=\"font-size:11pt\"><span style=\"color:#404040\">satellites</span></span> <span style=\"color:#4daf4a\"><span style=\"font-weight:bold;font-size:11pt\">(</span><span style=\"font-size:11pt\"><span style=\"font-weight:bold;color:#4daf4a\">and</span></span> <span style=\"font-size:11pt\"><span style=\"color:#404040\">nasa</span></span> <span style=\"color:#984ea3\"><span style=\"font-weight:bold;font-size:11pt\">(</span><span style=\"font-size:11pt\"><span style=\"font-weight:bold;color:#984ea3\">other</span></span> <span style=\"font-size:11pt\"><span style=\"color:#404040\">agencies</span></span><span style=\"color:#984ea3\"><span style=\"font-weight:bold;font-size:11pt\">)</span></span><span style=\"color:#4daf4a\"><span style=\"font-weight:bold;font-size:11pt\">)</span></span><span style=\"color:#377eb8\"><span style=\"font-weight:bold;font-size:11pt\">)</span></span></span></span></span> <span style=\"color:#377eb8\"><span style=\"font-weight:bold;font-size:11pt\">(</span><span style=\"font-size:11pt\"><span style=\"font-weight:bold;color:#377eb8\">sea</span></span> <span style=\"font-size:11pt\"><span style=\"color:#404040\">ice</span></span> <span style=\"font-size:11pt\"><span style=\"color:#404040\">changes</span></span><span style=\"color:#377eb8\"><span style=\"font-weight:bold;font-size:11pt\">)</span></span></span> <span style=\"color:#377eb8\"><span style=\"font-weight:bold;font-size:11pt\">(</span><span style=\"font-size:11pt\"><span style=\"font-weight:bold;color:#377eb8\">since</span></span> <span style=\"font-size:11pt\"><span style=\"color:#404040\">1979</span></span><span style=\"color:#377eb8\"><span style=\"font-weight:bold;font-size:11pt\">)</span></span><span style=\"color:#a65628\"><span style=\"font-weight:bold;font-size:11pt\">)</span></span></span></span>"
      ],
      "text/plain": [
       "<IPython.core.display.HTML object>"
      ]
     },
     "metadata": {},
     "output_type": "display_data"
    },
    {
     "data": {
      "text/html": [
       "<h3>stage #3: merge</h3>"
      ],
      "text/plain": [
       "<IPython.core.display.HTML object>"
      ]
     },
     "metadata": {},
     "output_type": "display_data"
    },
    {
     "data": {
      "text/html": [
       "<span style=\"color:#a65628\"><span style=\"font-weight:bold;font-size:11pt\">(</span><span style=\"color:#377eb8\"><span style=\"font-weight:bold;font-size:11pt\">(</span><span style=\"color:#4daf4a\"><span style=\"font-weight:bold;font-size:11pt\">(</span><span style=\"font-size:11pt\"><span style=\"font-weight:bold;color:#4daf4a\">have</span></span> <span style=\"color:#984ea3\"><span style=\"font-weight:bold;font-size:11pt\">(</span><span style=\"font-size:11pt\"><span style=\"font-weight:bold;color:#984ea3\">been</span></span> <span style=\"font-size:11pt\"><span style=\"font-weight:bold;color:#404040\">tracking</span></span><span style=\"color:#984ea3\"><span style=\"font-weight:bold;font-size:11pt\">)</span></span><span style=\"color:#4daf4a\"><span style=\"font-weight:bold;font-size:11pt\">)</span></span><span style=\"color:#377eb8\"><span style=\"font-weight:bold;font-size:11pt\">)</span></span></span></span></span> <span style=\"color:#377eb8\"><span style=\"font-weight:bold;font-size:11pt\">(</span><span style=\"font-size:11pt\"><span style=\"font-weight:bold;color:#377eb8\">from</span></span> <span style=\"font-size:11pt\"><span style=\"color:#404040\">satellites</span></span> <span style=\"color:#4daf4a\"><span style=\"font-weight:bold;font-size:11pt\">(</span><span style=\"font-size:11pt\"><span style=\"font-weight:bold;color:#4daf4a\">and</span></span> <span style=\"font-size:11pt\"><span style=\"color:#404040\">nasa</span></span> <span style=\"color:#984ea3\"><span style=\"font-weight:bold;font-size:11pt\">(</span><span style=\"font-size:11pt\"><span style=\"font-weight:bold;color:#984ea3\">other</span></span> <span style=\"font-size:11pt\"><span style=\"color:#404040\">agencies</span></span><span style=\"color:#984ea3\"><span style=\"font-weight:bold;font-size:11pt\">)</span></span><span style=\"color:#4daf4a\"><span style=\"font-weight:bold;font-size:11pt\">)</span></span><span style=\"color:#377eb8\"><span style=\"font-weight:bold;font-size:11pt\">)</span></span></span></span></span> <span style=\"color:#377eb8\"><span style=\"font-weight:bold;font-size:11pt\">(</span><span style=\"font-size:11pt\"><span style=\"font-weight:bold;color:#377eb8\">sea</span></span> <span style=\"font-size:11pt\"><span style=\"color:#404040\">ice</span></span> <span style=\"font-size:11pt\"><span style=\"color:#404040\">changes</span></span><span style=\"color:#377eb8\"><span style=\"font-weight:bold;font-size:11pt\">)</span></span></span> <span style=\"color:#377eb8\"><span style=\"font-weight:bold;font-size:11pt\">(</span><span style=\"font-size:11pt\"><span style=\"font-weight:bold;color:#377eb8\">since</span></span> <span style=\"font-size:11pt\"><span style=\"color:#404040\">1979</span></span><span style=\"color:#377eb8\"><span style=\"font-weight:bold;font-size:11pt\">)</span></span><span style=\"color:#a65628\"><span style=\"font-weight:bold;font-size:11pt\">)</span></span></span></span>"
      ],
      "text/plain": [
       "<IPython.core.display.HTML object>"
      ]
     },
     "metadata": {},
     "output_type": "display_data"
    },
    {
     "data": {
      "text/html": [
       "<h3>stage #4: shallow</h3>"
      ],
      "text/plain": [
       "<IPython.core.display.HTML object>"
      ]
     },
     "metadata": {},
     "output_type": "display_data"
    },
    {
     "data": {
      "text/html": [
       "<span style=\"color:#a65628\"><span style=\"font-weight:bold;font-size:11pt\">(</span><span style=\"color:#377eb8\"><span style=\"font-weight:bold;font-size:11pt\">(</span><span style=\"font-size:11pt\"><span style=\"font-weight:bold;color:#377eb8\">have</span></span> <span style=\"color:#4daf4a\"><span style=\"font-weight:bold;font-size:11pt\">(</span><span style=\"font-size:11pt\"><span style=\"font-weight:bold;color:#4daf4a\">been</span></span> <span style=\"font-size:11pt\"><span style=\"font-weight:bold;color:#404040\">tracking</span></span><span style=\"color:#4daf4a\"><span style=\"font-weight:bold;font-size:11pt\">)</span></span><span style=\"color:#377eb8\"><span style=\"font-weight:bold;font-size:11pt\">)</span></span></span></span> <span style=\"color:#377eb8\"><span style=\"font-weight:bold;font-size:11pt\">(</span><span style=\"font-size:11pt\"><span style=\"font-weight:bold;color:#377eb8\">from</span></span> <span style=\"font-size:11pt\"><span style=\"color:#404040\">satellites</span></span> <span style=\"color:#4daf4a\"><span style=\"font-weight:bold;font-size:11pt\">(</span><span style=\"font-size:11pt\"><span style=\"font-weight:bold;color:#4daf4a\">and</span></span> <span style=\"font-size:11pt\"><span style=\"color:#404040\">nasa</span></span> <span style=\"color:#984ea3\"><span style=\"font-weight:bold;font-size:11pt\">(</span><span style=\"font-size:11pt\"><span style=\"font-weight:bold;color:#984ea3\">other</span></span> <span style=\"font-size:11pt\"><span style=\"color:#404040\">agencies</span></span><span style=\"color:#984ea3\"><span style=\"font-weight:bold;font-size:11pt\">)</span></span><span style=\"color:#4daf4a\"><span style=\"font-weight:bold;font-size:11pt\">)</span></span><span style=\"color:#377eb8\"><span style=\"font-weight:bold;font-size:11pt\">)</span></span></span></span></span> <span style=\"color:#377eb8\"><span style=\"font-weight:bold;font-size:11pt\">(</span><span style=\"font-size:11pt\"><span style=\"font-weight:bold;color:#377eb8\">sea</span></span> <span style=\"font-size:11pt\"><span style=\"color:#404040\">ice</span></span> <span style=\"font-size:11pt\"><span style=\"color:#404040\">changes</span></span><span style=\"color:#377eb8\"><span style=\"font-weight:bold;font-size:11pt\">)</span></span></span> <span style=\"color:#377eb8\"><span style=\"font-weight:bold;font-size:11pt\">(</span><span style=\"font-size:11pt\"><span style=\"font-weight:bold;color:#377eb8\">since</span></span> <span style=\"font-size:11pt\"><span style=\"color:#404040\">1979</span></span><span style=\"color:#377eb8\"><span style=\"font-weight:bold;font-size:11pt\">)</span></span><span style=\"color:#a65628\"><span style=\"font-weight:bold;font-size:11pt\">)</span></span></span></span>"
      ],
      "text/plain": [
       "<IPython.core.display.HTML object>"
      ]
     },
     "metadata": {},
     "output_type": "display_data"
    },
    {
     "data": {
      "text/html": [
       "<h3>stage #5: concepts</h3>"
      ],
      "text/plain": [
       "<IPython.core.display.HTML object>"
      ]
     },
     "metadata": {},
     "output_type": "display_data"
    },
    {
     "data": {
      "text/html": [
       "<span style=\"color:#a65628\"><span style=\"font-weight:bold;font-size:11pt\">(</span><span style=\"color:#377eb8\"><span style=\"font-weight:bold;font-size:11pt\">(</span><span style=\"font-size:11pt\"><span style=\"font-weight:bold;color:#377eb8\">have</span></span> <span style=\"color:#4daf4a\"><span style=\"font-weight:bold;font-size:11pt\">(</span><span style=\"font-size:11pt\"><span style=\"font-weight:bold;color:#4daf4a\">been</span></span> <span style=\"font-size:11pt\"><span style=\"font-weight:bold;color:#404040\">tracking</span></span><span style=\"color:#4daf4a\"><span style=\"font-weight:bold;font-size:11pt\">)</span></span><span style=\"color:#377eb8\"><span style=\"font-weight:bold;font-size:11pt\">)</span></span></span></span> <span style=\"color:#377eb8\"><span style=\"font-weight:bold;font-size:11pt\">(</span><span style=\"font-size:11pt\"><span style=\"font-weight:bold;color:#377eb8\">+</span></span> <span style=\"font-size:11pt\"><span style=\"color:#404040\">from</span></span> <span style=\"font-size:11pt\"><span style=\"color:#404040\">satellites</span></span> <span style=\"color:#4daf4a\"><span style=\"font-weight:bold;font-size:11pt\">(</span><span style=\"font-size:11pt\"><span style=\"font-weight:bold;color:#4daf4a\">+</span></span> <span style=\"font-size:11pt\"><span style=\"color:#404040\">and</span></span> <span style=\"font-size:11pt\"><span style=\"color:#404040\">nasa</span></span> <span style=\"color:#984ea3\"><span style=\"font-weight:bold;font-size:11pt\">(</span><span style=\"font-size:11pt\"><span style=\"font-weight:bold;color:#984ea3\">+</span></span> <span style=\"font-size:11pt\"><span style=\"color:#404040\">other</span></span> <span style=\"font-size:11pt\"><span style=\"color:#404040\">agencies</span></span><span style=\"color:#984ea3\"><span style=\"font-weight:bold;font-size:11pt\">)</span></span><span style=\"color:#4daf4a\"><span style=\"font-weight:bold;font-size:11pt\">)</span></span><span style=\"color:#377eb8\"><span style=\"font-weight:bold;font-size:11pt\">)</span></span></span></span></span> <span style=\"color:#377eb8\"><span style=\"font-weight:bold;font-size:11pt\">(</span><span style=\"font-size:11pt\"><span style=\"font-weight:bold;color:#377eb8\">+</span></span> <span style=\"font-size:11pt\"><span style=\"color:#404040\">sea</span></span> <span style=\"font-size:11pt\"><span style=\"color:#404040\">ice</span></span> <span style=\"font-size:11pt\"><span style=\"color:#404040\">changes</span></span><span style=\"color:#377eb8\"><span style=\"font-weight:bold;font-size:11pt\">)</span></span></span> <span style=\"color:#377eb8\"><span style=\"font-weight:bold;font-size:11pt\">(</span><span style=\"font-size:11pt\"><span style=\"font-weight:bold;color:#377eb8\">+</span></span> <span style=\"font-size:11pt\"><span style=\"color:#404040\">since</span></span> <span style=\"font-size:11pt\"><span style=\"color:#404040\">1979</span></span><span style=\"color:#377eb8\"><span style=\"font-weight:bold;font-size:11pt\">)</span></span><span style=\"color:#a65628\"><span style=\"font-weight:bold;font-size:11pt\">)</span></span></span></span>"
      ],
      "text/plain": [
       "<IPython.core.display.HTML object>"
      ]
     },
     "metadata": {},
     "output_type": "display_data"
    },
    {
     "data": {
      "text/html": [
       "<span style=\"color:#a65628\"><span style=\"font-weight:bold;font-size:14pt\">(</span><span style=\"color:#377eb8\"><span style=\"font-weight:bold;font-size:13pt\">(</span><span style=\"font-size:13pt\"><span style=\"font-weight:bold;color:#377eb8\">have</span></span> <span style=\"color:#4daf4a\"><span style=\"font-weight:bold;font-size:12pt\">(</span><span style=\"font-size:12pt\"><span style=\"font-weight:bold;color:#4daf4a\">been</span></span> <span style=\"font-size:12pt\"><span style=\"font-weight:bold;color:#404040\">tracking</span></span><span style=\"color:#4daf4a\"><span style=\"font-weight:bold;font-size:12pt\">)</span></span><span style=\"color:#377eb8\"><span style=\"font-weight:bold;font-size:13pt\">)</span></span></div></div> <div style=\"margin-left:20px;color:#377eb8\"><span style=\"font-weight:bold;font-size:13pt\">(</span><span style=\"font-size:13pt\"><span style=\"font-weight:bold;color:#377eb8\">+</span></span> <span style=\"font-size:13pt\"><span style=\"color:#404040\">from</span></span> <span style=\"font-size:13pt\"><span style=\"color:#404040\">satellites</span></span> <div style=\"margin-left:20px;color:#4daf4a\"><span style=\"font-weight:bold;font-size:12pt\">(</span><span style=\"font-size:12pt\"><span style=\"font-weight:bold;color:#4daf4a\">+</span></span> <span style=\"font-size:12pt\"><span style=\"color:#404040\">and</span></span> <span style=\"font-size:12pt\"><span style=\"color:#404040\">nasa</span></span> <div style=\"margin-left:20px;color:#984ea3\"><span style=\"font-weight:bold;font-size:11pt\">(</span><span style=\"font-size:11pt\"><span style=\"font-weight:bold;color:#984ea3\">+</span></span> <span style=\"font-size:11pt\"><span style=\"color:#404040\">other</span></span> <span style=\"font-size:11pt\"><span style=\"color:#404040\">agencies</span></span><span style=\"color:#984ea3\"><span style=\"font-weight:bold;font-size:11pt\">)</span></span><span style=\"color:#4daf4a\"><span style=\"font-weight:bold;font-size:12pt\">)</span></span><span style=\"color:#377eb8\"><span style=\"font-weight:bold;font-size:13pt\">)</span></span></div></div></div> <div style=\"margin-left:20px;color:#377eb8\"><span style=\"font-weight:bold;font-size:13pt\">(</span><span style=\"font-size:13pt\"><span style=\"font-weight:bold;color:#377eb8\">+</span></span> <span style=\"font-size:13pt\"><span style=\"color:#404040\">sea</span></span> <span style=\"font-size:13pt\"><span style=\"color:#404040\">ice</span></span> <span style=\"font-size:13pt\"><span style=\"color:#404040\">changes</span></span><span style=\"color:#377eb8\"><span style=\"font-weight:bold;font-size:13pt\">)</span></span></div> <div style=\"margin-left:20px;color:#377eb8\"><span style=\"font-weight:bold;font-size:13pt\">(</span><span style=\"font-size:13pt\"><span style=\"font-weight:bold;color:#377eb8\">+</span></span> <span style=\"font-size:13pt\"><span style=\"color:#404040\">since</span></span> <span style=\"font-size:13pt\"><span style=\"color:#404040\">1979</span></span><span style=\"color:#377eb8\"><span style=\"font-weight:bold;font-size:13pt\">)</span></span><span style=\"color:#a65628\"><span style=\"font-weight:bold;font-size:14pt\">)</span></span></div></div>"
      ],
      "text/plain": [
       "<IPython.core.display.HTML object>"
      ]
     },
     "metadata": {},
     "output_type": "display_data"
    }
   ],
   "source": [
    "# change to whatever you like...\n",
    "text = \"\"\"\n",
    "Satellites from NASA and other agencies have been tracking sea ice changes since 1979.\n",
    "\"\"\"\n",
    "\n",
    "# text = \"\"\"\n",
    "# Let's face it.\n",
    "# \"\"\"\n",
    "\n",
    "namespaces = False \n",
    "compact = False\n",
    "show_stages = True\n",
    "\n",
    "read_and_show(parser, text, namespaces=namespaces, compact=compact, show_stages=show_stages)"
   ]
  },
  {
   "cell_type": "code",
   "execution_count": null,
   "metadata": {},
   "outputs": [],
   "source": []
  }
 ],
 "metadata": {
  "kernelspec": {
   "display_name": "Python 3",
   "language": "python",
   "name": "python3"
  },
  "language_info": {
   "codemirror_mode": {
    "name": "ipython",
    "version": 3
   },
   "file_extension": ".py",
   "mimetype": "text/x-python",
   "name": "python",
   "nbconvert_exporter": "python",
   "pygments_lexer": "ipython3",
   "version": "3.6.5"
  }
 },
 "nbformat": 4,
 "nbformat_minor": 2
}
