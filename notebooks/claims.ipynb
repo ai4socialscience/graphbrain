{
 "cells": [
  {
   "cell_type": "markdown",
   "metadata": {
    "collapsed": true
   },
   "source": [
    "# Claims Analysis"
   ]
  },
  {
   "cell_type": "code",
   "execution_count": 1,
   "metadata": {
    "collapsed": true
   },
   "outputs": [],
   "source": [
    "%load_ext autoreload\n",
    "%autoreload 2\n",
    "\n",
    "%matplotlib inline"
   ]
  },
  {
   "cell_type": "code",
   "execution_count": 2,
   "metadata": {
    "collapsed": true
   },
   "outputs": [],
   "source": [
    "import operator\n",
    "import math\n",
    "import random\n",
    "import itertools\n",
    "import json as j\n",
    "from gb.hypergraph.hypergraph import HyperGraph\n",
    "import gb.hypergraph.symbol as sym\n",
    "import gb.hypergraph.edge as ed\n",
    "import gb.nlp.parser as par\n",
    "import gb.tools.json as json_tools\n",
    "from gb.synonyms.meronomy import Meronomy\n",
    "from gb.metrics.hyper_similarity import HyperSimilarity\n",
    "\n",
    "import numpy as np\n",
    "import matplotlib.pyplot as plt\n",
    "\n",
    "from visJS2jupyter import visJS_module\n",
    "from visJS2jupyter import visualizations\n",
    "import networkx as nx"
   ]
  },
  {
   "cell_type": "markdown",
   "metadata": {},
   "source": [
    "### Constants"
   ]
  },
  {
   "cell_type": "code",
   "execution_count": 3,
   "metadata": {
    "collapsed": true
   },
   "outputs": [],
   "source": [
    "MAX_PROB = -12"
   ]
  },
  {
   "cell_type": "markdown",
   "metadata": {},
   "source": [
    "### HyperGraph"
   ]
  },
  {
   "cell_type": "code",
   "execution_count": 4,
   "metadata": {
    "collapsed": true
   },
   "outputs": [],
   "source": [
    "hg = HyperGraph({'backend': 'leveldb', 'hg': '../reddit-worldnews-01012013-01082017.hg'})"
   ]
  },
  {
   "cell_type": "markdown",
   "metadata": {},
   "source": [
    "### Start parser"
   ]
  },
  {
   "cell_type": "code",
   "execution_count": 5,
   "metadata": {
    "collapsed": true
   },
   "outputs": [],
   "source": [
    "parser = par.Parser()"
   ]
  },
  {
   "cell_type": "markdown",
   "metadata": {},
   "source": [
    "### Aux Functions"
   ]
  },
  {
   "cell_type": "code",
   "execution_count": 6,
   "metadata": {
    "collapsed": true
   },
   "outputs": [],
   "source": [
    "def rel_contains(full_edge, term):\n",
    "    if sym.is_edge(full_edge) and len(full_edge) > 2 and sym.is_edge(full_edge[2]):\n",
    "        rel = full_edge[0]\n",
    "        if sym.is_edge(rel):\n",
    "            return term in rel\n",
    "        else:\n",
    "            return rel == term\n",
    "    return False\n",
    "\n",
    "\n",
    "def edge2str(edge):\n",
    "    s = ed.edge2str(edge, namespaces=False)\n",
    "    if sym.is_edge(edge):\n",
    "        return s\n",
    "\n",
    "    if s[0] == '+':\n",
    "        s = s[1:]\n",
    "\n",
    "    if len(s) == 0:\n",
    "        return None\n",
    "\n",
    "    if not s[0].isalnum():\n",
    "        return None\n",
    "\n",
    "    word = parser.make_word(s)\n",
    "    if word.prob < MAX_PROB:\n",
    "        return s\n",
    "\n",
    "    return None\n",
    "\n",
    "\n",
    "def edge2syn(edge):\n",
    "    atom = edge2str(edge)\n",
    "    if atom:\n",
    "        syn_id = mer.syn_id(atom)\n",
    "        if syn_id:\n",
    "            return syn_id\n",
    "    return None"
   ]
  },
  {
   "cell_type": "markdown",
   "metadata": {},
   "source": [
    "### Meronomy and Say Edges"
   ]
  },
  {
   "cell_type": "code",
   "execution_count": 7,
   "metadata": {
    "collapsed": true
   },
   "outputs": [],
   "source": [
    "mer = Meronomy(parser)\n",
    "\n",
    "edge_data = json_tools.read('../all-reddit-worldnews-01012013-01082017.json')\n",
    "\n",
    "say_edges = []\n",
    "for it in edge_data:\n",
    "    edge_ns = ed.str2edge(it['edge'])\n",
    "    mer.add_edge(edge_ns)\n",
    "    edge = ed.without_namespaces(edge_ns)\n",
    "    \n",
    "    # (says x ...)\n",
    "    if rel_contains(edge, 'says'):\n",
    "        say_edges.append(edge)\n",
    "        \n",
    "mer.generate()"
   ]
  },
  {
   "cell_type": "markdown",
   "metadata": {},
   "source": [
    "### Sayers, sayers + claims & sorted sayers"
   ]
  },
  {
   "cell_type": "code",
   "execution_count": 8,
   "metadata": {
    "collapsed": true
   },
   "outputs": [],
   "source": [
    "sayers = {}\n",
    "sayers_and_claims = {}\n",
    "for edge in say_edges:\n",
    "    sayer = edge2syn(edge[1])\n",
    "    if sayer not in sayers_and_claims:\n",
    "        sayers[sayer] = 0\n",
    "        sayers_and_claims[sayer] = []\n",
    "    sayers[sayer] += 1\n",
    "    sayers_and_claims[sayer].append(edge[2])\n",
    "        \n",
    "sorted_sayers = sorted(sayers.items(), key=operator.itemgetter(1), reverse=True)"
   ]
  },
  {
   "cell_type": "markdown",
   "metadata": {},
   "source": [
    "### Concepts by sayer"
   ]
  },
  {
   "cell_type": "code",
   "execution_count": 9,
   "metadata": {
    "collapsed": true
   },
   "outputs": [],
   "source": [
    "concepts_by_sayer = {}\n",
    "\n",
    "\n",
    "def add_concepts(targ, src):\n",
    "    for key in src:\n",
    "        if key in targ:\n",
    "            targ[key] += src[key]\n",
    "        else:\n",
    "            targ[key] = src[key]\n",
    "\n",
    "\n",
    "def concepts_in_claim(claim, concept_map=None, deep=True):\n",
    "    if not concept_map:\n",
    "        concept_map = {}\n",
    "    syn_id = edge2syn(claim)\n",
    "    if syn_id:\n",
    "        if syn_id not in concept_map:\n",
    "            concept_map[syn_id] = 0\n",
    "        concept_map[syn_id] += 1\n",
    "        \n",
    "        if deep:\n",
    "            if sym.is_edge(claim):\n",
    "                for item in claim[1:]:\n",
    "                    concepts_in_claim(item, concept_map)\n",
    "    return concept_map\n",
    "\n",
    "\n",
    "def get_concepts_by_sayer(sayer, that_include=None):\n",
    "    concept_map = {}\n",
    "    for claim in sayers_and_claims[sayer]:\n",
    "        claim_concepts = concepts_in_claim(claim)\n",
    "        if not that_include:\n",
    "            add_concepts(concept_map, claim_concepts)\n",
    "        elif that_include in claim_concepts.keys():\n",
    "            del claim_concepts[that_include]\n",
    "            add_concepts(concept_map, claim_concepts)\n",
    "    return concept_map\n",
    "\n",
    "\n",
    "for sayer in sayers_and_claims:\n",
    "    concepts_by_sayer[sayer] = get_concepts_by_sayer(sayer)"
   ]
  },
  {
   "cell_type": "markdown",
   "metadata": {},
   "source": [
    "### Who talks about who graph"
   ]
  },
  {
   "cell_type": "code",
   "execution_count": 10,
   "metadata": {
    "collapsed": true
   },
   "outputs": [],
   "source": [
    "who_who = {}\n",
    "\n",
    "actors = [sayer for sayer in sayers if sayer and len(sayers_and_claims[sayer]) > 1]\n",
    "active_actors = set()\n",
    "\n",
    "def add_edge(orig, targ):\n",
    "    if orig and targ:\n",
    "        if orig not in who_who:\n",
    "            who_who[orig] = {}\n",
    "        if targ not in who_who[orig]:\n",
    "            who_who[orig][targ] = 0\n",
    "        who_who[orig][targ] += 1\n",
    "        if orig != targ:\n",
    "            active_actors.add(orig)\n",
    "            active_actors.add(targ)\n",
    "\n",
    "for sayer in actors:\n",
    "    for claim in sayers_and_claims[sayer]:\n",
    "        claim_concepts = concepts_in_claim(claim)\n",
    "        for concept in claim_concepts:\n",
    "            if concept in actors:\n",
    "                add_edge(sayer, concept)\n",
    "            \n",
    "file = open('../who_who.gml', 'w')\n",
    "file.write('graph\\n[\\n')\n",
    "for actor in active_actors:\n",
    "    # print(actor)\n",
    "    file.write('node\\n[\\nid %s\\nlabel \"%s\"\\n]\\n' % (str(actor), mer.synonym_label(actor, short=True)))\n",
    "for orig in who_who:\n",
    "    for targ in who_who[orig]:\n",
    "        w = who_who[orig][targ]\n",
    "        file.write('edge\\n[\\nsource %s\\ntarget %s\\nweight %s\\n]\\n' % (str(orig), str(targ), str(w)))\n",
    "file.write(']\\n')\n",
    "file.close()"
   ]
  },
  {
   "cell_type": "markdown",
   "metadata": {},
   "source": [
    "### Concept-actor graph"
   ]
  },
  {
   "cell_type": "code",
   "execution_count": 11,
   "metadata": {
    "collapsed": true
   },
   "outputs": [],
   "source": [
    "concept_actor = {}\n",
    "\n",
    "def add_edge(orig, targ):\n",
    "    if orig and targ:\n",
    "        if orig not in concept_actor:\n",
    "            concept_actor[orig] = {}\n",
    "        if targ not in concept_actor[orig]:\n",
    "            concept_actor[orig][targ] = 0\n",
    "        concept_actor[orig][targ] += 1\n",
    "\n",
    "def actors_for_concept(concept):\n",
    "    return concept_actor[concept].keys()\n",
    "        \n",
    "for sayer in actors:\n",
    "    for claim in sayers_and_claims[sayer]:\n",
    "        claim_concepts = concepts_in_claim(claim)\n",
    "        for concept in claim_concepts:\n",
    "            add_edge(concept, sayer)\n",
    "\n",
    "concept_metrics = {}\n",
    "            \n",
    "for concept in concept_actor:\n",
    "    weights = [concept_actor[concept][actor] for actor in concept_actor[concept]]\n",
    "    total = sum(weights)\n",
    "    h_weights = [float(i) / float(total) for i in weights]\n",
    "    h_weights = [i * i for i in h_weights]\n",
    "    h = 1. / sum(h_weights)\n",
    "    concept_metrics[concept] = {'total': total, 'h': h}"
   ]
  },
  {
   "cell_type": "markdown",
   "metadata": {},
   "source": [
    "### Dispersion of Concepts amongst Actors"
   ]
  },
  {
   "cell_type": "code",
   "execution_count": 12,
   "metadata": {},
   "outputs": [
    {
     "data": {
      "image/png": "[encoded data removed]",
      "text/plain": [
       "<matplotlib.figure.Figure at 0x257820c50>"
      ]
     },
     "metadata": {},
     "output_type": "display_data"
    }
   ],
   "source": [
    "x = [concept_metrics[concept]['h'] for concept in concept_metrics]\n",
    "x = [i for i in x if i < 25]\n",
    "\n",
    "# the histogram of the data\n",
    "n, bins, patches = plt.hist(x, 50, log=True, facecolor='green', alpha=0.75)\n",
    "\n",
    "plt.xlabel('1 / herfindhal')\n",
    "plt.ylabel('Frequency (log)')\n",
    "plt.title('Dispersion of Concepts amongst Actors')\n",
    "\n",
    "plt.show()"
   ]
  },
  {
   "cell_type": "markdown",
   "metadata": {},
   "source": [
    "### Show Top Actors"
   ]
  },
  {
   "cell_type": "code",
   "execution_count": 13,
   "metadata": {},
   "outputs": [
    {
     "name": "stdout",
     "output_type": "stream",
     "text": [
      "1095874 {russia} 196 882\n",
      "1095232 {iran} 110 404\n",
      "234 {(+ north korea), korea} 106 378\n",
      "1095734 {putin} 92 396\n",
      "1095120 {turkey} 70 315\n",
      "1095850 {ukraine} 67 230\n",
      "845 {francis, (+ pope francis), pope} 59 275\n",
      "1101597 {erdogan} 48 177\n",
      "1354 {arabia, saudi, (+ saudi arabia)} 46 206\n",
      "1095103 {syria} 44 153\n",
      "1097022 {pakistan} 42 167\n",
      "1095699 {france} 41 177\n",
      "1110127 {(+ south korea)} 38 154\n",
      "801 {cameron, (+ david cameron), david} 34 124\n",
      "1095224 {japan} 32 165\n",
      "456 {kremlin, (+the kremlin)} 31 142\n",
      "39 {angela, (+ angela merkel), merkel} 31 155\n",
      "1095598 {trump} 30 113\n",
      "1095096 {eu} 27 112\n",
      "1100775 {kerry} 27 116\n"
     ]
    }
   ],
   "source": [
    "for t in sorted_sayers[:21]:\n",
    "    syn_id = t[0]\n",
    "    if syn_id:\n",
    "        print('%s %s %s %s' % (syn_id, mer.synonym_label(syn_id), t[1], len(concepts_by_sayer[syn_id])))"
   ]
  },
  {
   "cell_type": "markdown",
   "metadata": {},
   "source": [
    "### Concepts by actor"
   ]
  },
  {
   "cell_type": "code",
   "execution_count": 21,
   "metadata": {},
   "outputs": [
    {
     "name": "stdout",
     "output_type": "stream",
     "text": [
      "[430474] {(+'s amount world (+ many conflicts)), (+ many conflicts)} 4 1.0\n",
      "[850] {francis, pope, (+ pope francis)} 4 2.9999999999999996\n",
      "[1927] {(+roman (+ catholic church)), (+ catholic church), catholic} 3 2.6666666666666665\n",
      "[1899] {vatican, (+the vatican)} 3 3.571428571428571\n",
      "[35744] {(+with violence), to_equate, (to_equate islam (+with violence))} 3 1.0\n",
      "[261] {sunday, (+on sunday)} 3 5.444444444444445\n",
      "[1195256] {(+the church)} 2 1.0\n",
      "[386693] {(+of state israel), (+the (+of state israel))} 2 1.0\n",
      "[431222] {(+ migrant walls), (+- (+ migrant walls) anti)} 2 1.0\n",
      "[604879] {(+of religious harmony), (+a model (+of religious harmony))} 2 1.0\n",
      "[665331] {(+first (+to visit nation)), (+to visit nation)} 2 1.0\n",
      "[561488] {(+ rio trip), (+for vehicle (+ rio trip))} 2 1.0\n",
      "[627893] {(+gay (+and contraception marriage)), (+and contraception marriage)} 2 1.0\n",
      "[627935] {(+financial (+and corruption speculation)), (+and corruption speculation)} 2 1.0\n",
      "[1189215] {islam} 2 2.6666666666666665\n",
      "[684449] {(+is (+if maintained dignity)), (+if maintained dignity)} 2 1.0\n",
      "[1196342] {dignity} 2 1.7999999999999998\n",
      "[174848] {(+ their lands.pope), lands.pope} 2 1.0\n",
      "[1189794] {trump} 2 28.446153846153834\n",
      "[267167] {(+to_advance (+ its construction)), (+ its construction)} 2 1.0\n",
      "[628603] {(+twitter (+and feeds)), (+and feeds)} 2 1.0\n"
     ]
    }
   ],
   "source": [
    "concepts = concepts_by_sayer[850]\n",
    "\n",
    "sorted_concepts = sorted(concepts.items(), key=operator.itemgetter(1), reverse=True)\n",
    "for t in sorted_concepts[:21]:\n",
    "    syn_id = t[0]\n",
    "    if syn_id:\n",
    "        print('[%s] %s %s %s' % (syn_id, mer.synonym_label(syn_id, short=False), t[1], concept_metrics[syn_id]['h']))"
   ]
  },
  {
   "cell_type": "markdown",
   "metadata": {},
   "source": [
    "### Concepts by actor and $1/herfindhal$"
   ]
  },
  {
   "cell_type": "code",
   "execution_count": 17,
   "metadata": {},
   "outputs": [
    {
     "name": "stdout",
     "output_type": "stream",
     "text": [
      "[987] new york 4.0 4 {ukraine, iraq pm, belgium}\n",
      "[1220458] hackers 4.5 6 {a new report, cybersecurity firm, vodafone, yahoo}\n",
      "[1220267] spies 4.0 4 {putin, norway, sweden}\n",
      "[1220437] poland 3.571428571428571 5 {britain, putin, defense minister}\n",
      "[1222383] foreign minister 3.571428571428571 5 {iranian mp, iraq, iranian fm}\n",
      "[5357] armenian genocide 4.0 4 {turkey, watch human rights, erdoğan}\n",
      "[1230107] jordan 3.571428571428571 5 {syrian government, japan, the syrian army}\n",
      "[1222061] in ukraine 4.499999999999999 6 {angela merkel, kiev, osce, george soros}\n",
      "[16] the cia 4.5 6 {european court, wikileaks, german government, pakistan court}\n",
      "[1271329] patience 3.571428571428571 5 {turkey, germany, trump}\n",
      "[1243094] with u.s 4.499999999999999 6 {iran, khamenei, germany, 's lavrov russia}\n",
      "[1223876] diplomatic 4.0 4 {the kremlin, turkey, russian official}\n",
      "[1227262] commander 4.0 4 {hezbollah, iraqi military, iraq}\n",
      "[1996] the brink 3.571428571428571 5 {north korea, france, putin}\n",
      "[2056] zika virus 4.0 4 {health ministry, cdc, mexico}\n",
      "[76] the mediterranean 4.0 4 {italian pm, italy, sinking of mediterranean mass murder}\n",
      "[1225681] russian forces 3.571428571428571 5 {ukraine, 's president ukraine, nato commander}\n",
      "[1225952] airlines 4.0 4 {ukraine, tony abbott, pm tony abbott}\n",
      "[1238590] tribunal 4.0 4 {foreign minister, putin, julie bishop}\n",
      "[3315] pro separatists russian 4.499999999999999 6 {ukraine, kerry, putin, rebel leader}\n"
     ]
    }
   ],
   "source": [
    "ego = 1221043\n",
    "concepts = concepts_by_sayer[ego]\n",
    "\n",
    "concepts_by_h = {}\n",
    "for concept in concepts:\n",
    "    h = int(round(concept_metrics[concept]['h']))\n",
    "    if h not in concepts_by_h:\n",
    "        concepts_by_h[h] = []\n",
    "    concepts_by_h[h].append(concept)\n",
    "\n",
    "for syn_id in concepts_by_h[4][:20]:\n",
    "    actors = [mer.synonym_label(actor, short=True) for actor in actors_for_concept(syn_id) if actor != ego]\n",
    "    actor_str = ', '.join(actors)\n",
    "    print('[%s] %s %s %s {%s}' % (syn_id, mer.synonym_label(syn_id, short=True), concept_metrics[syn_id]['h'], concept_metrics[syn_id]['total'], actor_str))"
   ]
  },
  {
   "cell_type": "markdown",
   "metadata": {},
   "source": [
    "### Alignment on concepts"
   ]
  },
  {
   "cell_type": "code",
   "execution_count": null,
   "metadata": {
    "collapsed": true
   },
   "outputs": [],
   "source": [
    "ego = 845         # the pope\n",
    "concept = 959230  # contraception\n",
    "\n",
    "def related_concepts(actor, concept):\n",
    "    result = set()\n",
    "    for claim in sayers_and_claims[actor]:\n",
    "        claim_concepts = concepts_in_claim(claim)\n",
    "        if concept in claim_concepts:\n",
    "            for c in claim_concepts:\n",
    "                if c != concept:\n",
    "                    result.add(c)\n",
    "    return result\n",
    "\n",
    "actors = actors_for_concept(concept)\n",
    "\n",
    "for actor in actors:\n",
    "    actor_name = mer.synonym_label(actor, short=True)\n",
    "    print('ACTOR: %s' % actor_name)\n",
    "    related = related_concepts(actor, concept)\n",
    "    for rel in related:\n",
    "        print(mer.synonym_label(rel, short=True))"
   ]
  },
  {
   "cell_type": "markdown",
   "metadata": {},
   "source": [
    "### Who talks about what - Ego Graph"
   ]
  },
  {
   "cell_type": "code",
   "execution_count": null,
   "metadata": {
    "collapsed": true
   },
   "outputs": [],
   "source": [
    "ego = 845\n",
    "who_what = {}\n",
    "\n",
    "concepts = concepts_by_sayer[ego]\n",
    "\n",
    "nodes = set()\n",
    "\n",
    "def add_edge(orig, targ, weight):\n",
    "    if orig and targ:\n",
    "        if orig not in who_what:\n",
    "            who_what[orig] = {}\n",
    "        who_what[orig][targ] = weight\n",
    "        nodes.add(orig)\n",
    "        nodes.add(targ)\n",
    "\n",
    "for concept in concepts:\n",
    "    if len(concept_actor[concept]) > 1:\n",
    "        for actor in concept_actor[concept]:\n",
    "            add_edge(actor, concept, concept_actor[concept][actor])\n",
    "        \n",
    "file = open('../who_what.gml', 'w')\n",
    "file.write('graph\\n[\\n')\n",
    "for node in nodes:\n",
    "    file.write('node\\n[\\nid %s\\nlabel \"%s\"\\n]\\n' % (str(node), mer.synonym_label(node, short=True)))\n",
    "for orig in who_what:\n",
    "    for targ in who_what[orig]:\n",
    "        w = who_what[orig][targ]\n",
    "        file.write('edge\\n[\\nsource %s\\ntarget %s\\nweight %s\\n]\\n' % (str(orig), str(targ), str(w)))\n",
    "file.write(']\\n')\n",
    "file.close()"
   ]
  },
  {
   "cell_type": "code",
   "execution_count": null,
   "metadata": {
    "collapsed": true
   },
   "outputs": [],
   "source": [
    "ego = 900574\n",
    "\n",
    "concepts = concepts_by_sayer[ego]\n",
    "\n",
    "file = open('../france.csv', 'w')\n",
    "file.write('concept,herfindahl,total,ego_total,actors\\n')\n",
    "for concept in concepts:\n",
    "    file.write('%s,%s,%s,%s,' % (mer.synonym_label(concept, short=True),\n",
    "                                 concept_metrics[concept]['h'],\n",
    "                                 concept_metrics[concept]['total'],\n",
    "                                 concept_actor[concept][ego]))\n",
    "    actor_str = '|'.join([mer.synonym_label(actor, short=True) for actor in concept_actor[concept] if actor != ego])\n",
    "    file.write('%s\\n' % actor_str)\n",
    "file.write('\\n')\n",
    "file.close()"
   ]
  },
  {
   "cell_type": "code",
   "execution_count": null,
   "metadata": {
    "collapsed": true
   },
   "outputs": [],
   "source": [
    "print(mer.synonym_label(908171))\n",
    "print(mer.syn_id('(+ pope francis)'))"
   ]
  },
  {
   "cell_type": "markdown",
   "metadata": {},
   "source": [
    "### Concept proximity"
   ]
  },
  {
   "cell_type": "code",
   "execution_count": 18,
   "metadata": {},
   "outputs": [
    {
     "data": {
      "text/plain": [
       "1.0056965782477258"
      ]
     },
     "execution_count": 18,
     "metadata": {},
     "output_type": "execute_result"
    }
   ],
   "source": [
    "hs = HyperSimilarity(hg)\n",
    "\n",
    "global_economy = mer.syn_id('(+ global economy)')\n",
    "financial_crisis = mer.syn_id('(+ financial crisis)')\n",
    "catholic_church = mer.syn_id('(+ catholic church)')\n",
    "pope_francis = mer.syn_id('(+ pope francis)')\n",
    "hackers = mer.syn_id('hackers')\n",
    "spies = mer.syn_id('spies')\n",
    "\n",
    "# mer.synonym_full_edges(c4)\n",
    "\n",
    "hs.synonym_similarity(mer, hackers, spies)"
   ]
  },
  {
   "cell_type": "code",
   "execution_count": null,
   "metadata": {
    "collapsed": true
   },
   "outputs": [],
   "source": [
    "used_concepts = set()\n",
    "\n",
    "for sayer in sayers_and_claims:\n",
    "    used_concepts = used_concepts.union(concepts_by_sayer[sayer])\n",
    "\n",
    "used_concepts = list(used_concepts)\n",
    "    \n",
    "print(len(used_concepts))"
   ]
  },
  {
   "cell_type": "code",
   "execution_count": null,
   "metadata": {
    "collapsed": true
   },
   "outputs": [],
   "source": [
    "random.seed()\n",
    "\n",
    "def random_concept():\n",
    "    return random.choice(used_concepts)\n",
    "\n",
    "x = []\n",
    "best_prox = -1.\n",
    "best_pair = None\n",
    "for i in range(1000):\n",
    "    c1 = random_concept()\n",
    "    c2 = random_concept()\n",
    "    hs = HyperSimilarity(hg)\n",
    "    prox = hs.synonym_similarity(mer, c1, c2)\n",
    "    x.append(prox)\n",
    "    if prox > best_prox:\n",
    "        best_prox = prox\n",
    "        best_pair = (c1, c2)\n",
    "        print('%s | %s => %s' % (mer.synonym_label(best_pair[0], short=True), mer.synonym_label(best_pair[1], short=True), best_prox))"
   ]
  },
  {
   "cell_type": "code",
   "execution_count": 24,
   "metadata": {},
   "outputs": [
    {
     "name": "stdout",
     "output_type": "stream",
     "text": [
      "ACTOR russia\n",
      "-> spying\n",
      "-> moscow policeman\n",
      "-> policeman\n",
      "-> of former moscow policeman for spying cia\n",
      "-> convicts of former moscow policeman for spying cia\n",
      "-> for spying cia\n",
      "-> moscow\n",
      "ACTOR european court\n",
      "-> polish\n",
      "-> secret jail\n",
      "-> ran cia secret jail in a polish forest\n",
      "-> a polish forest\n",
      "ACTOR wikileaks\n",
      "-> infectious zero patient\n",
      "-> zero patient\n",
      "-> as russian activity\n",
      "-> turns cia ’s servers into infectious zero patient\n",
      "-> disguised hacking cia as russian activity\n",
      "-> hacking cia\n",
      "-> into infectious zero patient\n",
      "-> cia ’s\n",
      "-> russian\n",
      "ACTOR german government\n",
      "-> of issue cia leaks\n",
      "-> cia leaks\n",
      "-> leaks\n",
      "-> takes it of issue cia leaks seriously\n",
      "ACTOR pakistan court\n",
      "-> cia station\n",
      "-> former chief cia station\n"
     ]
    }
   ],
   "source": [
    "def related_concepts(main_concept, actor):\n",
    "    concepts = set()\n",
    "    for claim in sayers_and_claims[actor]:\n",
    "        claim_concepts = concepts_in_claim(claim)\n",
    "        if main_concept in claim_concepts:\n",
    "            for concept in claim_concepts:\n",
    "                if concept != main_concept:\n",
    "                    concepts.add(concept)\n",
    "    return concepts\n",
    "\n",
    "main_concept = mer.syn_id('cia')\n",
    "# main_concept = mer.syn_id('fifa')\n",
    "# main_concept = mer.syn_id('hackers')\n",
    "actors = actors_for_concept(main_concept)\n",
    "\n",
    "related_concepts_by_actor = {}\n",
    "for actor in actors:\n",
    "    related_concepts_by_actor[actor] = related_concepts(main_concept, actor)\n",
    "    \n",
    "for actor in related_concepts_by_actor:\n",
    "    print('ACTOR %s' % mer.synonym_label(actor, short=True))\n",
    "    for concept in related_concepts_by_actor[actor]:\n",
    "        print('-> %s' % mer.synonym_label(concept, short=True))"
   ]
  },
  {
   "cell_type": "code",
   "execution_count": 25,
   "metadata": {},
   "outputs": [
    {
     "name": "stdout",
     "output_type": "stream",
     "text": [
      "russia -> russian [7.4673124385568626]\n",
      "european court -> russia [12.893179018842508]\n",
      "wikileaks -> russia [27.028430726057948]\n",
      "german government -> russia [34.04249599274112]\n",
      "pakistan court -> european court [0.3517392232180964]\n"
     ]
    }
   ],
   "source": [
    "hs = HyperSimilarity(hg)\n",
    "\n",
    "def closest_concept(orig_set, targ_set):\n",
    "    best_prox = -1.\n",
    "    best_pair = None\n",
    "    for orig in orig_set:\n",
    "        for targ in targ_set:\n",
    "            prox = hs.synonym_similarity(mer, orig, targ)\n",
    "            if prox > best_prox:\n",
    "                best_prox = prox\n",
    "                best_pair = (orig, targ)\n",
    "    return best_pair, best_prox\n",
    "\n",
    "nodes = {}\n",
    "edges = []\n",
    "for actor in related_concepts_by_actor:\n",
    "    nodes[actor] = {'type': 'actor'}\n",
    "for actor_orig in related_concepts_by_actor:\n",
    "    best_prox = -1.\n",
    "    best_pair = None\n",
    "    for actor_targ in related_concepts_by_actor:\n",
    "        if actor_orig != actor_targ:\n",
    "            pair, prox = closest_concept(related_concepts_by_actor[actor_orig], related_concepts_by_actor[actor_targ])\n",
    "            if prox > best_prox:\n",
    "                best_prox = prox\n",
    "                best_pair = pair\n",
    "            pair, prox = closest_concept(related_concepts_by_actor[actor_orig], {actor_targ})\n",
    "            if prox > best_prox:\n",
    "                best_prox = prox\n",
    "                best_pair = pair\n",
    "    concept = best_pair[1]\n",
    "    if concept not in related_concepts_by_actor:\n",
    "        nodes[concept] = {'type': 'concept'}\n",
    "    edges.append((actor_orig, concept))\n",
    "    print('%s -> %s [%s]' % (mer.synonym_label(actor_orig, short=True), mer.synonym_label(concept, short=True), best_prox))"
   ]
  },
  {
   "cell_type": "code",
   "execution_count": null,
   "metadata": {
    "collapsed": true,
    "scrolled": true
   },
   "outputs": [],
   "source": [
    "G = nx.DiGraph()\n",
    "for node in nodes:\n",
    "    G.add_node(node)\n",
    "for edge in edges:\n",
    "    G.add_edge(edge[0], edge[1])\n",
    "gnodes = G.nodes()\n",
    "gedges = G.edges()\n",
    "\n",
    "pos = nx.spring_layout(G)\n",
    "\n",
    "def node_shape(n):\n",
    "    if nodes[n]['type'] != 'actor':\n",
    "        return 'square'\n",
    "    else:\n",
    "        return 'triangle'\n",
    "    \n",
    "def node_color(n):\n",
    "    if nodes[n]['type'] != 'actor':\n",
    "        return '#8A2BE2'\n",
    "    else:\n",
    "        return '#FFA500'\n",
    "\n",
    "nodes_dict = [{'id': mer.synonym_label(n, short=True),\n",
    "               'color': node_color(n),\n",
    "               'node_shape': node_shape(n),\n",
    "               'x': pos[n][0] * 1000,\n",
    "               'y': pos[n][1] * 1000} for n in gnodes]\n",
    "node_map = dict(zip(nodes,range(len(gnodes))))  # map to indices for source/target in edges\n",
    "\n",
    "edges_dict = [{'source': node_map[gedges[i][0]],\n",
    "               'target': node_map[gedges[i][1]],\n",
    "               'color':'#A0A0A0'} for i in range(len(gedges))]\n",
    "\n",
    "visJS_module.visjs_network(nodes_dict, edges_dict,\n",
    "                           node_size_multiplier=7,\n",
    "                           node_size_transform = '',\n",
    "                           node_font_color = '#303030',\n",
    "                           node_font_background = 'rgba(255, 255, 255, .5)',\n",
    "                           node_font_size=25,\n",
    "                           edge_arrow_to=True,\n",
    "                           physics_enabled=True,\n",
    "                           edge_color_highlight='#8A324E',\n",
    "                           edge_color_hover='#8BADD3',\n",
    "                           edge_width=3,\n",
    "                           max_velocity=15,\n",
    "                           min_velocity=1)"
   ]
  },
  {
   "cell_type": "markdown",
   "metadata": {
    "collapsed": true
   },
   "source": [
    "## SemBubbles"
   ]
  },
  {
   "cell_type": "code",
   "execution_count": 33,
   "metadata": {},
   "outputs": [
    {
     "name": "stdout",
     "output_type": "stream",
     "text": [
      "actors: 350; concepts: 824; 824\n"
     ]
    }
   ],
   "source": [
    "json = {'actors': {}, 'concepts': {}, 'aa': {}, 'ac': {}, 'ca': {}, 'cc': {}}\n",
    "\n",
    "actors = set([sayer for sayer in sayers if sayer and len(sayers_and_claims[sayer]) > 2])\n",
    "\n",
    "# actors, concepts & aa\n",
    "for actor_id in actors:\n",
    "    actor = mer.synonym_label(actor_id, short=True)\n",
    "    json['actors'][actor] = {'frequency': len(sayers_and_claims[actor_id]),\n",
    "                             'name': actor}\n",
    "    json['aa'][actor] = {}\n",
    "    for concept_id in concepts_by_sayer[actor_id]:\n",
    "        concept = mer.synonym_label(concept_id, short=True)\n",
    "        # concept is actor\n",
    "        if concept_id in actors:\n",
    "            actor2 = concept\n",
    "            if actor2 not in json['aa'][actor]:\n",
    "                json['aa'][actor][actor2] = 0\n",
    "            json['aa'][actor][actor2] += 1\n",
    "        # concept is concept\n",
    "        else:\n",
    "            if concept not in json['concepts']:\n",
    "                json['concepts'][concept] = {'frequency': 0,\n",
    "                                             'name': concept}\n",
    "            json['concepts'][concept]['frequency'] += 1\n",
    "\n",
    "# filter low freq concepts\n",
    "new_concepts = {}\n",
    "for concept in json['concepts']:\n",
    "    if json['concepts'][concept]['frequency'] > 1:\n",
    "        new_concepts[concept] = json['concepts'][concept]\n",
    "json['concepts'] = new_concepts\n",
    "\n",
    "# ac, ca, init cc\n",
    "for actor_id in actors:\n",
    "    actor = mer.synonym_label(actor_id, short=True)\n",
    "    json['ac'][actor] = {}\n",
    "    for concept_id in concepts_by_sayer[actor_id]:\n",
    "        concept = mer.synonym_label(concept_id, short=True)\n",
    "        if concept in json['concepts'] and concept not in actors:\n",
    "            if concept not in json['ca']:\n",
    "                json['ca'][concept] = {}\n",
    "                json['cc'][concept] = {}\n",
    "            if actor not in json['ca'][concept]:\n",
    "                json['ca'][concept][actor] = 0\n",
    "            json['ca'][concept][actor] += 1\n",
    "            if concept not in json['ac'][actor]:\n",
    "                json['ac'][actor][concept] = 0\n",
    "            json['ac'][actor][concept] += 1\n",
    "\n",
    "# cc\n",
    "for actor in actors:\n",
    "    for claim in sayers_and_claims[actor]:\n",
    "        claim_concepts = [mer.synonym_label(concept, short=True) for concept in concepts_in_claim(claim)]\n",
    "        claim_concepts = set([concept for concept in claim_concepts if concept in json['concepts']])\n",
    "        combs = itertools.combinations(claim_concepts, 2)\n",
    "        for comb in combs:\n",
    "            c1 = comb[0]\n",
    "            c2 = comb[1]\n",
    "            if c2 not in json['cc'][c1]:\n",
    "                json['cc'][c1][c2] = 0\n",
    "            if c1 not in json['cc'][c2]:\n",
    "                json['cc'][c2][c1] = 0\n",
    "            json['cc'][c1][c2] += 1\n",
    "            json['cc'][c2][c1] += 1\n",
    "\n",
    "with open('../reddit-worldnews-sembubble.json', 'w') as json_file:\n",
    "    json_file.write(j.dumps(json))\n",
    "\n",
    "print('actors: %s; concepts: %s; %s' % (len(actors), len(json['concepts']), len(json['ca'])))"
   ]
  },
  {
   "cell_type": "code",
   "execution_count": 48,
   "metadata": {},
   "outputs": [
    {
     "name": "stdout",
     "output_type": "stream",
     "text": [
      "actors: 349; concepts: 824; 349\n"
     ]
    }
   ],
   "source": [
    "print('actors: %s; concepts: %s; %s' % (len(json['actors']), len(json['concepts']), len(json['aa'])))"
   ]
  }
 ],
 "metadata": {
  "kernelspec": {
   "display_name": "Python 3",
   "language": "python",
   "name": "python3"
  },
  "language_info": {
   "codemirror_mode": {
    "name": "ipython",
    "version": 3
   },
   "file_extension": ".py",
   "mimetype": "text/x-python",
   "name": "python",
   "nbconvert_exporter": "python",
   "pygments_lexer": "ipython3",
   "version": "3.6.0"
  }
 },
 "nbformat": 4,
 "nbformat_minor": 2
}
