{
 "cells": [
  {
   "cell_type": "markdown",
   "metadata": {},
   "source": [
    "# Graphbrain parser\n",
    "\n",
    "This notebook is a simple demonstration of the Graphbrain parser, which transforms a sentence in natural language into an hyperedge."
   ]
  },
  {
   "cell_type": "code",
   "execution_count": 1,
   "metadata": {},
   "outputs": [],
   "source": [
    "# simple functions to interact with Graphbrain from notebooks\n",
    "from graphbrain.notebook import *\n",
    "# the parser\n",
    "from graphbrain.meaning.parser import Parser"
   ]
  },
  {
   "cell_type": "markdown",
   "metadata": {},
   "source": [
    "**Note**: When the cell bellow is run, the parser is initalized. This can take from a few seconds to a minute."
   ]
  },
  {
   "cell_type": "code",
   "execution_count": 2,
   "metadata": {},
   "outputs": [],
   "source": [
    "# include part-of-speech tags in atoms\n",
    "pos = True\n",
    "\n",
    "# create the parser object\n",
    "parser = Parser(lang='en', pos=pos)"
   ]
  },
  {
   "cell_type": "code",
   "execution_count": 12,
   "metadata": {
    "scrolled": true
   },
   "outputs": [
    {
     "data": {
      "text/html": [
       "<span style=\"color:#a65628\"><span style=\"font-weight:bold;font-size:14pt\">(</span><span style=\"font-size:14pt\"><span style=\"font-weight:bold;color:#a65628\">is</span></span> <div style=\"margin-left:20px;color:#377eb8\"><span style=\"font-weight:bold;font-size:13pt\">[</span><span style=\"font-size:13pt\"><span style=\"font-weight:bold;color:#377eb8\">:</span></span> <div style=\"margin-left:20px;color:#4daf4a\"><span style=\"font-weight:bold;font-size:12pt\">[</span><span style=\"font-size:12pt\"><span style=\"font-weight:bold;color:#4daf4a\">the</span></span> <span style=\"color:#984ea3\"><span style=\"font-weight:bold;font-size:11pt\">[</span><span style=\"font-size:11pt\"><span style=\"font-weight:bold;color:#984ea3\">+</span></span> <span style=\"font-size:11pt\"><span style=\"color:#404040\">turing</span></span> <span style=\"font-size:11pt\"><span style=\"color:#404040\">test</span></span><span style=\"color:#984ea3\">\n",
       "            <span style=\"font-weight:bold;font-size:11pt\">]</span>\n",
       "        </span><span style=\"color:#4daf4a\">\n",
       "            <span style=\"font-weight:bold;font-size:12pt\">]</span>\n",
       "        </span></div></div> <div style=\"margin-left:20px;color:#4daf4a\"><span style=\"font-weight:bold;font-size:12pt\">(</span><span style=\"font-size:12pt\"><span style=\"font-weight:bold;color:#4daf4a\">developed</span></span> <div style=\"margin-left:20px;color:#984ea3\"><span style=\"font-weight:bold;font-size:11pt\">(</span><span style=\"font-size:11pt\"><span style=\"font-weight:bold;color:#984ea3\">by</span></span> <span style=\"color:#ff7f00\"><span style=\"font-weight:bold;font-size:10pt\">[</span><span style=\"font-size:10pt\"><span style=\"font-weight:bold;color:#ff7f00\">+</span></span> <span style=\"font-size:10pt\"><span style=\"color:#404040\">alan</span></span> <span style=\"font-size:10pt\"><span style=\"color:#404040\">turing</span></span><span style=\"color:#ff7f00\">\n",
       "            <span style=\"font-weight:bold;font-size:10pt\">]</span>\n",
       "        </span><span style=\"color:#984ea3\">\n",
       "            <span style=\"font-weight:bold;font-size:11pt\">)</span>\n",
       "        </span></div></div> <div style=\"margin-left:20px;color:#984ea3\"><span style=\"font-weight:bold;font-size:11pt\">{</span><span style=\"font-size:11pt\"><span style=\"font-weight:bold;color:#984ea3\">in</span></span> <span style=\"font-size:11pt\"><span style=\"color:#404040\">1950</span></span><span style=\"color:#984ea3\">\n",
       "            <span style=\"font-weight:bold;font-size:11pt\">}</span>\n",
       "        </span><span style=\"color:#4daf4a\">\n",
       "            <span style=\"font-weight:bold;font-size:12pt\">)</span>\n",
       "        </span><span style=\"color:#377eb8\">\n",
       "            <span style=\"font-weight:bold;font-size:13pt\">]</span>\n",
       "        </span></div></div></div> <div style=\"margin-left:20px;color:#377eb8\"><span style=\"font-weight:bold;font-size:13pt\">[</span><span style=\"font-size:13pt\"><span style=\"font-weight:bold;color:#377eb8\">a</span></span> <span style=\"color:#4daf4a\"><span style=\"font-weight:bold;font-size:12pt\">[</span><span style=\"font-size:12pt\"><span style=\"font-weight:bold;color:#4daf4a\">of</span></span> <span style=\"font-size:12pt\"><span style=\"color:#404040\">test</span></span> <div style=\"margin-left:20px;color:#984ea3\"><span style=\"font-weight:bold;font-size:11pt\">[</span><span style=\"font-size:11pt\"><span style=\"font-weight:bold;color:#984ea3\">+</span></span> <span style=\"font-size:11pt\"><span style=\"color:#404040\">machine</span></span> <span style=\"font-size:11pt\"><span style=\"color:#404040\">intelligence</span></span><span style=\"color:#984ea3\">\n",
       "            <span style=\"font-weight:bold;font-size:11pt\">]</span>\n",
       "        </span><span style=\"color:#4daf4a\">\n",
       "            <span style=\"font-weight:bold;font-size:12pt\">]</span>\n",
       "        </span><span style=\"color:#377eb8\">\n",
       "            <span style=\"font-weight:bold;font-size:13pt\">]</span>\n",
       "        </span><span style=\"color:#a65628\">\n",
       "            <span style=\"font-weight:bold;font-size:14pt\">)</span>\n",
       "        </span></div></div></div></div>"
      ],
      "text/plain": [
       "<IPython.core.display.HTML object>"
      ]
     },
     "metadata": {},
     "output_type": "display_data"
    }
   ],
   "source": [
    "# change to whatever you like...\n",
    "text = \"\"\"\n",
    "The Turing test, developed by Alan Turing in 1950, is a test of machine intelligence.\n",
    "\"\"\"\n",
    "\n",
    "roots_only = True \n",
    "compact = False\n",
    "tree = False\n",
    "\n",
    "parse_and_show(parser, text, roots_only=roots_only, compact=compact, tree=tree)"
   ]
  }
 ],
 "metadata": {
  "kernelspec": {
   "display_name": "Python 3",
   "language": "python",
   "name": "python3"
  },
  "language_info": {
   "codemirror_mode": {
    "name": "ipython",
    "version": 3
   },
   "file_extension": ".py",
   "mimetype": "text/x-python",
   "name": "python",
   "nbconvert_exporter": "python",
   "pygments_lexer": "ipython3",
   "version": "3.6.5"
  }
 },
 "nbformat": 4,
 "nbformat_minor": 2
}
