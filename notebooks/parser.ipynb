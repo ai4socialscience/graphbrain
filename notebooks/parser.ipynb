{
 "cells": [
  {
   "cell_type": "markdown",
   "metadata": {},
   "source": [
    "# Graphbrain parser\n",
    "\n",
    "This notebook is a simple demonstration of the Graphbrain parser, which transforms a sentence in natural language into an hyperedge."
   ]
  },
  {
   "cell_type": "code",
   "execution_count": 1,
   "metadata": {},
   "outputs": [],
   "source": [
    "# simple functions to interact with Graphbrain from notebooks\n",
    "from graphbrain.notebook import *\n",
    "# the parser\n",
    "from graphbrain.meaning.parser import Parser"
   ]
  },
  {
   "cell_type": "markdown",
   "metadata": {},
   "source": [
    "**Note**: When the cell bellow is run, the parser is initalized. This can take from a few seconds to a minute."
   ]
  },
  {
   "cell_type": "code",
   "execution_count": 2,
   "metadata": {},
   "outputs": [],
   "source": [
    "# include part-of-speech tags in atoms\n",
    "pos = True\n",
    "\n",
    "# create the parser object\n",
    "parser = Parser(lang='en', pos=pos)"
   ]
  },
  {
   "cell_type": "code",
   "execution_count": 3,
   "metadata": {
    "scrolled": true
   },
   "outputs": [
    {
     "data": {
      "text/html": [
       "<span style=\"color:#a65628\"><span style=\"font-weight:bold;font-size:14pt\">(</span><span style=\"color:#377eb8\"><span style=\"font-weight:bold;font-size:13pt\">(</span><span style=\"font-size:13pt\"><span style=\"font-weight:bold;color:#377eb8\">have</span><span style=\"color:#7F7F6F;font-size:8pt\">/a/en.vbp</span></span> <span style=\"color:#4daf4a\"><span style=\"font-weight:bold;font-size:12pt\">(</span><span style=\"font-size:12pt\"><span style=\"font-weight:bold;color:#4daf4a\">been</span><span style=\"color:#7F7F6F;font-size:8pt\">/a/en.vbn</span></span> <span style=\"font-size:12pt\"><span style=\"font-weight:bold;color:#404040\">tracking</span><span style=\"color:#7F7F6F;font-size:8pt\">/pd.sox/en.vbg</span></span><span style=\"color:#4daf4a\">\n",
       "            <span style=\"font-weight:bold;font-size:12pt\">)</span>\n",
       "        </span><span style=\"color:#377eb8\">\n",
       "            <span style=\"font-weight:bold;font-size:13pt\">)</span>\n",
       "        </span></div></div> <div style=\"margin-left:20px;color:#377eb8\"><span style=\"font-weight:bold;font-size:13pt\">[</span><span style=\"font-size:13pt\"><span style=\"font-weight:bold;color:#377eb8\">from</span><span style=\"color:#7F7F6F;font-size:8pt\">/b/en.in</span></span> <span style=\"font-size:13pt\"><span style=\"color:#404040\">satellites</span><span style=\"color:#7F7F6F;font-size:8pt\">/c/en.nnp</span></span> <div style=\"margin-left:20px;color:#4daf4a\"><span style=\"font-weight:bold;font-size:12pt\">[</span><span style=\"font-size:12pt\"><span style=\"font-weight:bold;color:#4daf4a\">and</span><span style=\"color:#7F7F6F;font-size:8pt\">/b/en.cc</span></span> <span style=\"font-size:12pt\"><span style=\"color:#404040\">nasa</span><span style=\"color:#7F7F6F;font-size:8pt\">/c/en.nnp</span></span> <div style=\"margin-left:20px;color:#984ea3\"><span style=\"font-weight:bold;font-size:11pt\">[</span><span style=\"font-size:11pt\"><span style=\"font-weight:bold;color:#984ea3\">other</span><span style=\"color:#7F7F6F;font-size:8pt\">/m/en.jj</span></span> <span style=\"font-size:11pt\"><span style=\"color:#404040\">agencies</span><span style=\"color:#7F7F6F;font-size:8pt\">/c/en.nns</span></span><span style=\"color:#984ea3\">\n",
       "            <span style=\"font-weight:bold;font-size:11pt\">]</span>\n",
       "        </span><span style=\"color:#4daf4a\">\n",
       "            <span style=\"font-weight:bold;font-size:12pt\">]</span>\n",
       "        </span><span style=\"color:#377eb8\">\n",
       "            <span style=\"font-weight:bold;font-size:13pt\">]</span>\n",
       "        </span></div></div></div> <div style=\"margin-left:20px;color:#377eb8\"><span style=\"font-weight:bold;font-size:13pt\">[</span><span style=\"font-size:13pt\"><span style=\"font-weight:bold;color:#377eb8\">+</span><span style=\"color:#7F7F6F;font-size:8pt\">/b/.</span></span> <span style=\"font-size:13pt\"><span style=\"color:#404040\">sea</span><span style=\"color:#7F7F6F;font-size:8pt\">/c/en.nn</span></span> <span style=\"font-size:13pt\"><span style=\"color:#404040\">ice</span><span style=\"color:#7F7F6F;font-size:8pt\">/c/en.nn</span></span> <span style=\"font-size:13pt\"><span style=\"color:#404040\">changes</span><span style=\"color:#7F7F6F;font-size:8pt\">/c/en.nns</span></span><span style=\"color:#377eb8\">\n",
       "            <span style=\"font-weight:bold;font-size:13pt\">]</span>\n",
       "        </span></div> <div style=\"margin-left:20px;color:#377eb8\"><span style=\"font-weight:bold;font-size:13pt\">{</span><span style=\"font-size:13pt\"><span style=\"font-weight:bold;color:#377eb8\">since</span><span style=\"color:#7F7F6F;font-size:8pt\">/t/en.in</span></span> <span style=\"font-size:13pt\"><span style=\"color:#404040\">1979</span><span style=\"color:#7F7F6F;font-size:8pt\">/c/en.cd</span></span><span style=\"color:#377eb8\">\n",
       "            <span style=\"font-weight:bold;font-size:13pt\">}</span>\n",
       "        </span><span style=\"color:#a65628\">\n",
       "            <span style=\"font-weight:bold;font-size:14pt\">)</span>\n",
       "        </span></div></div>"
      ],
      "text/plain": [
       "<IPython.core.display.HTML object>"
      ]
     },
     "metadata": {},
     "output_type": "display_data"
    }
   ],
   "source": [
    "# change to whatever you like...\n",
    "text = \"\"\"\n",
    "Satellites from NASA and other agencies have been tracking sea ice changes since 1979.\n",
    "\"\"\"\n",
    "\n",
    "roots_only = False \n",
    "compact = False\n",
    "tree = False\n",
    "\n",
    "parse_and_show(parser, text, roots_only=roots_only, compact=compact, tree=tree)"
   ]
  }
 ],
 "metadata": {
  "kernelspec": {
   "display_name": "Python 3",
   "language": "python",
   "name": "python3"
  },
  "language_info": {
   "codemirror_mode": {
    "name": "ipython",
    "version": 3
   },
   "file_extension": ".py",
   "mimetype": "text/x-python",
   "name": "python",
   "nbconvert_exporter": "python",
   "pygments_lexer": "ipython3",
   "version": "3.6.5"
  }
 },
 "nbformat": 4,
 "nbformat_minor": 2
}
