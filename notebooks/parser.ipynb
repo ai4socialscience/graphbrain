{
 "cells": [
  {
   "cell_type": "markdown",
   "metadata": {},
   "source": [
    "# Graphbrain parser\n",
    "\n",
    "This notebook is a simple demonstration of the Graphbrain parser, which transforms a sentence in natural language into an hyperedge."
   ]
  },
  {
   "cell_type": "code",
   "execution_count": 1,
   "metadata": {},
   "outputs": [],
   "source": [
    "# simple functions to interact with Graphbrain from notebooks\n",
    "from graphbrain.notebook import *\n",
    "# the parser\n",
    "from graphbrain.meaning.parser import Parser\n",
    "# function to visualize parse trees\n",
    "from graphbrain.meaning.nlpvis import print_tree"
   ]
  },
  {
   "cell_type": "markdown",
   "metadata": {},
   "source": [
    "**Note**: When the cell bellow is run, the parser is initalized. This can take from a few seconds to a minute."
   ]
  },
  {
   "cell_type": "code",
   "execution_count": 2,
   "metadata": {},
   "outputs": [],
   "source": [
    "# include part-of-speech tags in atoms\n",
    "pos = True\n",
    "\n",
    "# create the parser object\n",
    "parser = Parser(lang='en', pos=pos)"
   ]
  },
  {
   "cell_type": "code",
   "execution_count": 3,
   "metadata": {
    "scrolled": true
   },
   "outputs": [
    {
     "data": {
      "text/html": [
       "<span style=\"color:#4a9ac2\"><span style=\"font-weight:bold;font-size:14pt\">(</span><span style=\"font-size:14pt\"><span style=\"font-weight:bold;color:#4a9ac2\">is</span></span> <div style=\"margin-left:20px;color:#c97326\"><span style=\"font-weight:bold;font-size:13pt\">[</span><span style=\"font-size:13pt\"><span style=\"font-weight:bold;color:#c97326\">:</span></span> <div style=\"margin-left:20px;color:#608629\"><span style=\"font-weight:bold;font-size:12pt\">[</span><span style=\"font-size:12pt\"><span style=\"font-weight:bold;color:#608629\">the</span></span> <span style=\"color:#085566\"><span style=\"font-weight:bold;font-size:11pt\">[</span><span style=\"font-size:11pt\"><span style=\"font-weight:bold;color:#085566\">+</span></span> <span style=\"font-size:11pt\"><span style=\"color:#404040\">turing</span></span> <span style=\"font-size:11pt\"><span style=\"color:#404040\">test</span></span><span style=\"color:#085566\">\n",
       "            <span style=\"font-weight:bold;font-size:11pt\">]</span>\n",
       "        </span><span style=\"color:#608629\">\n",
       "            <span style=\"font-weight:bold;font-size:12pt\">]</span>\n",
       "        </span></span></div> <div style=\"margin-left:20px;color:#608629\"><span style=\"font-weight:bold;font-size:12pt\">(</span><span style=\"font-size:12pt\"><span style=\"font-weight:bold;color:#608629\">developed</span></span> <div style=\"margin-left:20px;color:#085566\"><span style=\"font-weight:bold;font-size:11pt\">(</span><span style=\"font-size:11pt\"><span style=\"font-weight:bold;color:#085566\">by</span></span> <span style=\"color:#7bdddc\"><span style=\"font-weight:bold;font-size:10pt\">[</span><span style=\"font-size:10pt\"><span style=\"font-weight:bold;color:#7bdddc\">+</span></span> <span style=\"font-size:10pt\"><span style=\"color:#404040\">alan</span></span> <span style=\"font-size:10pt\"><span style=\"color:#404040\">turing</span></span><span style=\"color:#7bdddc\">\n",
       "            <span style=\"font-weight:bold;font-size:10pt\">]</span>\n",
       "        </span><span style=\"color:#085566\">\n",
       "            <span style=\"font-weight:bold;font-size:11pt\">)</span>\n",
       "        </span></span></div> <div style=\"margin-left:20px;color:#085566\"><span style=\"font-weight:bold;font-size:11pt\">{</span><span style=\"font-size:11pt\"><span style=\"font-weight:bold;color:#085566\">in</span></span> <span style=\"font-size:11pt\"><span style=\"color:#404040\">1950</span></span><span style=\"color:#085566\">\n",
       "            <span style=\"font-weight:bold;font-size:11pt\">}</span>\n",
       "        </span><span style=\"color:#608629\">\n",
       "            <span style=\"font-weight:bold;font-size:12pt\">)</span>\n",
       "        </span><span style=\"color:#c97326\">\n",
       "            <span style=\"font-weight:bold;font-size:13pt\">]</span>\n",
       "        </span></div></div></div> <div style=\"margin-left:20px;color:#c97326\"><span style=\"font-weight:bold;font-size:13pt\">[</span><span style=\"font-size:13pt\"><span style=\"font-weight:bold;color:#c97326\">a</span></span> <span style=\"color:#608629\"><span style=\"font-weight:bold;font-size:12pt\">[</span><span style=\"font-size:12pt\"><span style=\"font-weight:bold;color:#608629\">of</span></span> <span style=\"font-size:12pt\"><span style=\"color:#404040\">test</span></span> <div style=\"margin-left:20px;color:#085566\"><span style=\"font-weight:bold;font-size:11pt\">[</span><span style=\"font-size:11pt\"><span style=\"font-weight:bold;color:#085566\">+</span></span> <span style=\"font-size:11pt\"><span style=\"color:#404040\">machine</span></span> <span style=\"font-size:11pt\"><span style=\"color:#404040\">intelligence</span></span><span style=\"color:#085566\">\n",
       "            <span style=\"font-weight:bold;font-size:11pt\">]</span>\n",
       "        </span><span style=\"color:#608629\">\n",
       "            <span style=\"font-weight:bold;font-size:12pt\">]</span>\n",
       "        </span><span style=\"color:#c97326\">\n",
       "            <span style=\"font-weight:bold;font-size:13pt\">]</span>\n",
       "        </span><span style=\"color:#4a9ac2\">\n",
       "            <span style=\"font-weight:bold;font-size:14pt\">)</span>\n",
       "        </span></div></span></div></span>"
      ],
      "text/plain": [
       "<IPython.core.display.HTML object>"
      ]
     },
     "metadata": {},
     "output_type": "display_data"
    }
   ],
   "source": [
    "# change to whatever you like...\n",
    "text = \"\"\"\n",
    "The Turing test, developed by Alan Turing in 1950, is a test of machine intelligence.\n",
    "\"\"\"\n",
    "\n",
    "roots_only = True\n",
    "compact = False\n",
    "tree = False\n",
    "\n",
    "parses = parser.parse(text)\n",
    "for parse in parses:\n",
    "    if tree:\n",
    "        print_tree(parse['spacy_sentence'].root)\n",
    "    show(parse['main_edge'], roots_only=roots_only, compact=compact)"
   ]
  }
 ],
 "metadata": {
  "kernelspec": {
   "display_name": "Python 3",
   "language": "python",
   "name": "python3"
  },
  "language_info": {
   "codemirror_mode": {
    "name": "ipython",
    "version": 3
   },
   "file_extension": ".py",
   "mimetype": "text/x-python",
   "name": "python",
   "nbconvert_exporter": "python",
   "pygments_lexer": "ipython3",
   "version": "3.6.5"
  }
 },
 "nbformat": 4,
 "nbformat_minor": 2
}
