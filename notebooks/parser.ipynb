{
 "cells": [
  {
   "cell_type": "markdown",
   "metadata": {},
   "source": [
    "# Graphbrain parser\n",
    "\n",
    "This notebook is a simple demonstration of the Graphbrain parser, which transforms a sentence in natural language into an hyperedge."
   ]
  },
  {
   "cell_type": "code",
   "execution_count": 7,
   "metadata": {},
   "outputs": [],
   "source": [
    "# simple functions to interact with Graphbrain from notebooks\n",
    "from graphbrain.notebook import *\n",
    "# the parser\n",
    "from graphbrain.meaning.parser import Parser\n",
    "# function to visualize parse trees\n",
    "from graphbrain.meaning.nlpvis import print_tree"
   ]
  },
  {
   "cell_type": "markdown",
   "metadata": {},
   "source": [
    "**Note**: When the cell bellow is run, the parser is initalized. This can take from a few seconds to a minute."
   ]
  },
  {
   "cell_type": "code",
   "execution_count": 2,
   "metadata": {},
   "outputs": [],
   "source": [
    "# include part-of-speech tags in atoms\n",
    "pos = True\n",
    "\n",
    "# create the parser object\n",
    "parser = Parser(lang='en', pos=pos)"
   ]
  },
  {
   "cell_type": "code",
   "execution_count": 158,
   "metadata": {
    "scrolled": true
   },
   "outputs": [
    {
     "name": "stdout",
     "output_type": "stream",
     "text": [
      "\u001b[31m*\u001b[0m \u001b[36mtracking\u001b[0m/track/\u001b[32mVBG\u001b[0m (\u001b[33mROOT\u001b[0m) \n",
      " +-- \u001b[31m<\u001b[0m \u001b[36msatellites\u001b[0m/satellites/\u001b[32mNNP\u001b[0m (\u001b[33mnsubj\u001b[0m) \u001b[35m{ORG}\u001b[0m\n",
      " |   +-- \u001b[31m<\u001b[0m \u001b[36m\u001b[0m//\u001b[32m\u001b[0m (\u001b[33m\u001b[0m) \u001b[35m{ORG}\u001b[0m\n",
      " |   +-- \u001b[31m>\u001b[0m \u001b[36mfrom\u001b[0m/from/\u001b[32mIN\u001b[0m (\u001b[33mprep\u001b[0m) \n",
      " |       +-- \u001b[31m>\u001b[0m \u001b[36mnasa\u001b[0m/nasa/\u001b[32mNNP\u001b[0m (\u001b[33mpobj\u001b[0m) \u001b[35m{ORG}\u001b[0m\n",
      " |           +-- \u001b[31m>\u001b[0m \u001b[36mand\u001b[0m/and/\u001b[32mCC\u001b[0m (\u001b[33mcc\u001b[0m) \n",
      " |           +-- \u001b[31m>\u001b[0m \u001b[36magencies\u001b[0m/agency/\u001b[32mNNS\u001b[0m (\u001b[33mconj\u001b[0m) \n",
      " |               +-- \u001b[31m<\u001b[0m \u001b[36mother\u001b[0m/other/\u001b[32mJJ\u001b[0m (\u001b[33mamod\u001b[0m) \n",
      " +-- \u001b[31m<\u001b[0m \u001b[36mhave\u001b[0m/have/\u001b[32mVBP\u001b[0m (\u001b[33maux\u001b[0m) \n",
      " +-- \u001b[31m<\u001b[0m \u001b[36mbeen\u001b[0m/be/\u001b[32mVBN\u001b[0m (\u001b[33maux\u001b[0m) \n",
      " +-- \u001b[31m>\u001b[0m \u001b[36mchanges\u001b[0m/change/\u001b[32mNNS\u001b[0m (\u001b[33mdobj\u001b[0m) \n",
      " |   +-- \u001b[31m<\u001b[0m \u001b[36mice\u001b[0m/ice/\u001b[32mNN\u001b[0m (\u001b[33mcompound\u001b[0m) \n",
      " |       +-- \u001b[31m<\u001b[0m \u001b[36msea\u001b[0m/sea/\u001b[32mNN\u001b[0m (\u001b[33mcompound\u001b[0m) \n",
      " +-- \u001b[31m>\u001b[0m \u001b[36msince\u001b[0m/since/\u001b[32mIN\u001b[0m (\u001b[33mprep\u001b[0m) \n",
      " |   +-- \u001b[31m>\u001b[0m \u001b[36m1979\u001b[0m/1979/\u001b[32mCD\u001b[0m (\u001b[33mpobj\u001b[0m) \u001b[35m{DATE}\u001b[0m\n",
      " +-- \u001b[31m>\u001b[0m \u001b[36m.\u001b[0m/./\u001b[32m.\u001b[0m (\u001b[33mpunct\u001b[0m) \n",
      "     +-- \u001b[31m>\u001b[0m \u001b[36m\u001b[0m//\u001b[32m\u001b[0m (\u001b[33m\u001b[0m) \n"
     ]
    },
    {
     "data": {
      "text/html": [
       "<span style=\"color:#a65628\"><span style=\"font-weight:bold;font-size:14pt\">(</span><span style=\"color:#377eb8\"><span style=\"font-weight:bold;font-size:13pt\">(</span><span style=\"font-size:13pt\"><span style=\"font-weight:bold;color:#377eb8\">have</span></span> <span style=\"color:#4daf4a\"><span style=\"font-weight:bold;font-size:12pt\">(</span><span style=\"font-size:12pt\"><span style=\"font-weight:bold;color:#4daf4a\">been</span></span> <span style=\"font-size:12pt\"><span style=\"font-weight:bold;color:#404040\">tracking</span></span><span style=\"color:#4daf4a\">\n",
       "            <span style=\"font-weight:bold;font-size:12pt\">)</span>\n",
       "        </span><span style=\"color:#377eb8\">\n",
       "            <span style=\"font-weight:bold;font-size:13pt\">)</span>\n",
       "        </span></span></span> <div style=\"margin-left:20px;color:#377eb8\"><span style=\"font-weight:bold;font-size:13pt\">[</span><span style=\"font-size:13pt\"><span style=\"font-weight:bold;color:#377eb8\">from</span></span> <span style=\"font-size:13pt\"><span style=\"color:#404040\">satellites</span></span> <div style=\"margin-left:20px;color:#4daf4a\"><span style=\"font-weight:bold;font-size:12pt\">[</span><span style=\"font-size:12pt\"><span style=\"font-weight:bold;color:#4daf4a\">and</span></span> <span style=\"font-size:12pt\"><span style=\"color:#404040\">nasa</span></span> <div style=\"margin-left:20px;color:#984ea3\"><span style=\"font-weight:bold;font-size:11pt\">[</span><span style=\"font-size:11pt\"><span style=\"font-weight:bold;color:#984ea3\">other</span></span> <span style=\"font-size:11pt\"><span style=\"color:#404040\">agencies</span></span><span style=\"color:#984ea3\">\n",
       "            <span style=\"font-weight:bold;font-size:11pt\">]</span>\n",
       "        </span><span style=\"color:#4daf4a\">\n",
       "            <span style=\"font-weight:bold;font-size:12pt\">]</span>\n",
       "        </span><span style=\"color:#377eb8\">\n",
       "            <span style=\"font-weight:bold;font-size:13pt\">]</span>\n",
       "        </span></div></div></div> <div style=\"margin-left:20px;color:#377eb8\"><span style=\"font-weight:bold;font-size:13pt\">[</span><span style=\"font-size:13pt\"><span style=\"font-weight:bold;color:#377eb8\">+</span></span> <span style=\"font-size:13pt\"><span style=\"color:#404040\">sea</span></span> <span style=\"font-size:13pt\"><span style=\"color:#404040\">ice</span></span> <span style=\"font-size:13pt\"><span style=\"color:#404040\">changes</span></span><span style=\"color:#377eb8\">\n",
       "            <span style=\"font-weight:bold;font-size:13pt\">]</span>\n",
       "        </span></div> <div style=\"margin-left:20px;color:#377eb8\"><span style=\"font-weight:bold;font-size:13pt\">{</span><span style=\"font-size:13pt\"><span style=\"font-weight:bold;color:#377eb8\">since</span></span> <span style=\"font-size:13pt\"><span style=\"color:#404040\">1979</span></span><span style=\"color:#377eb8\">\n",
       "            <span style=\"font-weight:bold;font-size:13pt\">}</span>\n",
       "        </span><span style=\"color:#a65628\">\n",
       "            <span style=\"font-weight:bold;font-size:14pt\">)</span>\n",
       "        </span></div></span>"
      ],
      "text/plain": [
       "<IPython.core.display.HTML object>"
      ]
     },
     "metadata": {},
     "output_type": "display_data"
    },
    {
     "name": "stdout",
     "output_type": "stream",
     "text": [
      "\u001b[31m*\u001b[0m \u001b[36mtracking\u001b[0m/track/\u001b[32mVBG\u001b[0m (\u001b[33mROOT\u001b[0m) \n",
      " +-- \u001b[31m<\u001b[0m \u001b[36msatellites\u001b[0m/satellites/\u001b[32mNNP\u001b[0m (\u001b[33mnsubj\u001b[0m) \n",
      " |   +-- \u001b[31m>\u001b[0m \u001b[36mfrom\u001b[0m/from/\u001b[32mIN\u001b[0m (\u001b[33mprep\u001b[0m) \n",
      " |       +-- \u001b[31m>\u001b[0m \u001b[36magencies\u001b[0m/agency/\u001b[32mNNS\u001b[0m (\u001b[33mpobj\u001b[0m) \n",
      " |           +-- \u001b[31m<\u001b[0m \u001b[36mnasa\u001b[0m/nasa/\u001b[32mNNP\u001b[0m (\u001b[33mnmod\u001b[0m) \u001b[35m{ORG}\u001b[0m\n",
      " |               +-- \u001b[31m>\u001b[0m \u001b[36mand\u001b[0m/and/\u001b[32mCC\u001b[0m (\u001b[33mcc\u001b[0m) \n",
      " |               +-- \u001b[31m>\u001b[0m \u001b[36mspace\u001b[0m/space/\u001b[32mNN\u001b[0m (\u001b[33mconj\u001b[0m) \n",
      " +-- \u001b[31m<\u001b[0m \u001b[36mhave\u001b[0m/have/\u001b[32mVBP\u001b[0m (\u001b[33maux\u001b[0m) \n",
      " +-- \u001b[31m<\u001b[0m \u001b[36mbeen\u001b[0m/be/\u001b[32mVBN\u001b[0m (\u001b[33maux\u001b[0m) \n",
      " +-- \u001b[31m>\u001b[0m \u001b[36mchanges\u001b[0m/change/\u001b[32mNNS\u001b[0m (\u001b[33mdobj\u001b[0m) \n",
      " |   +-- \u001b[31m<\u001b[0m \u001b[36mice\u001b[0m/ice/\u001b[32mNN\u001b[0m (\u001b[33mcompound\u001b[0m) \n",
      " |       +-- \u001b[31m<\u001b[0m \u001b[36msea\u001b[0m/sea/\u001b[32mNN\u001b[0m (\u001b[33mcompound\u001b[0m) \n",
      " +-- \u001b[31m>\u001b[0m \u001b[36msince\u001b[0m/since/\u001b[32mIN\u001b[0m (\u001b[33mprep\u001b[0m) \n",
      " |   +-- \u001b[31m>\u001b[0m \u001b[36m1979\u001b[0m/1979/\u001b[32mCD\u001b[0m (\u001b[33mpobj\u001b[0m) \u001b[35m{DATE}\u001b[0m\n",
      " +-- \u001b[31m>\u001b[0m \u001b[36m.\u001b[0m/./\u001b[32m.\u001b[0m (\u001b[33mpunct\u001b[0m) \n",
      "     +-- \u001b[31m>\u001b[0m \u001b[36m\u001b[0m//\u001b[32m\u001b[0m (\u001b[33m\u001b[0m) \n"
     ]
    },
    {
     "data": {
      "text/html": [
       "<span style=\"color:#a65628\"><span style=\"font-weight:bold;font-size:14pt\">(</span><span style=\"color:#377eb8\"><span style=\"font-weight:bold;font-size:13pt\">(</span><span style=\"font-size:13pt\"><span style=\"font-weight:bold;color:#377eb8\">have</span></span> <span style=\"color:#4daf4a\"><span style=\"font-weight:bold;font-size:12pt\">(</span><span style=\"font-size:12pt\"><span style=\"font-weight:bold;color:#4daf4a\">been</span></span> <span style=\"font-size:12pt\"><span style=\"font-weight:bold;color:#404040\">tracking</span></span><span style=\"color:#4daf4a\">\n",
       "            <span style=\"font-weight:bold;font-size:12pt\">)</span>\n",
       "        </span><span style=\"color:#377eb8\">\n",
       "            <span style=\"font-weight:bold;font-size:13pt\">)</span>\n",
       "        </span></span></span> <div style=\"margin-left:20px;color:#377eb8\"><span style=\"font-weight:bold;font-size:13pt\">[</span><span style=\"font-size:13pt\"><span style=\"font-weight:bold;color:#377eb8\">from</span></span> <span style=\"font-size:13pt\"><span style=\"color:#404040\">satellites</span></span> <div style=\"margin-left:20px;color:#4daf4a\"><span style=\"font-weight:bold;font-size:12pt\">[</span><span style=\"font-size:12pt\"><span style=\"font-weight:bold;color:#4daf4a\">and</span></span> <div style=\"margin-left:20px;color:#984ea3\"><span style=\"font-weight:bold;font-size:11pt\">[</span><span style=\"font-size:11pt\"><span style=\"font-weight:bold;color:#984ea3\">nasa</span></span> <span style=\"font-size:11pt\"><span style=\"color:#404040\">space</span></span><span style=\"color:#984ea3\">\n",
       "            <span style=\"font-weight:bold;font-size:11pt\">]</span>\n",
       "        </span></div> <span style=\"font-size:12pt\"><span style=\"color:#404040\">agencies</span></span><span style=\"color:#4daf4a\">\n",
       "            <span style=\"font-weight:bold;font-size:12pt\">]</span>\n",
       "        </span><span style=\"color:#377eb8\">\n",
       "            <span style=\"font-weight:bold;font-size:13pt\">]</span>\n",
       "        </span></div></div> <div style=\"margin-left:20px;color:#377eb8\"><span style=\"font-weight:bold;font-size:13pt\">[</span><span style=\"font-size:13pt\"><span style=\"font-weight:bold;color:#377eb8\">+</span></span> <span style=\"font-size:13pt\"><span style=\"color:#404040\">sea</span></span> <span style=\"font-size:13pt\"><span style=\"color:#404040\">ice</span></span> <span style=\"font-size:13pt\"><span style=\"color:#404040\">changes</span></span><span style=\"color:#377eb8\">\n",
       "            <span style=\"font-weight:bold;font-size:13pt\">]</span>\n",
       "        </span></div> <div style=\"margin-left:20px;color:#377eb8\"><span style=\"font-weight:bold;font-size:13pt\">{</span><span style=\"font-size:13pt\"><span style=\"font-weight:bold;color:#377eb8\">since</span></span> <span style=\"font-size:13pt\"><span style=\"color:#404040\">1979</span></span><span style=\"color:#377eb8\">\n",
       "            <span style=\"font-weight:bold;font-size:13pt\">}</span>\n",
       "        </span><span style=\"color:#a65628\">\n",
       "            <span style=\"font-weight:bold;font-size:14pt\">)</span>\n",
       "        </span></div></span>"
      ],
      "text/plain": [
       "<IPython.core.display.HTML object>"
      ]
     },
     "metadata": {},
     "output_type": "display_data"
    },
    {
     "name": "stdout",
     "output_type": "stream",
     "text": [
      "\u001b[31m*\u001b[0m \u001b[36mtracking\u001b[0m/track/\u001b[32mVBG\u001b[0m (\u001b[33mROOT\u001b[0m) \n",
      " +-- \u001b[31m<\u001b[0m \u001b[36msatellites\u001b[0m/satellites/\u001b[32mNNP\u001b[0m (\u001b[33mnsubj\u001b[0m) \n",
      " |   +-- \u001b[31m>\u001b[0m \u001b[36mfrom\u001b[0m/from/\u001b[32mIN\u001b[0m (\u001b[33mprep\u001b[0m) \n",
      " |   |   +-- \u001b[31m>\u001b[0m \u001b[36mnasa\u001b[0m/nasa/\u001b[32mNNP\u001b[0m (\u001b[33mpobj\u001b[0m) \u001b[35m{ORG}\u001b[0m\n",
      " |   +-- \u001b[31m>\u001b[0m \u001b[36mand\u001b[0m/and/\u001b[32mCC\u001b[0m (\u001b[33mcc\u001b[0m) \n",
      " |   +-- \u001b[31m>\u001b[0m \u001b[36magencies\u001b[0m/agency/\u001b[32mNNS\u001b[0m (\u001b[33mconj\u001b[0m) \n",
      " |       +-- \u001b[31m<\u001b[0m \u001b[36mthe\u001b[0m/the/\u001b[32mDT\u001b[0m (\u001b[33mdet\u001b[0m) \n",
      " |       +-- \u001b[31m<\u001b[0m \u001b[36mother\u001b[0m/other/\u001b[32mJJ\u001b[0m (\u001b[33mamod\u001b[0m) \n",
      " +-- \u001b[31m<\u001b[0m \u001b[36mhave\u001b[0m/have/\u001b[32mVBP\u001b[0m (\u001b[33maux\u001b[0m) \n",
      " +-- \u001b[31m<\u001b[0m \u001b[36mbeen\u001b[0m/be/\u001b[32mVBN\u001b[0m (\u001b[33maux\u001b[0m) \n",
      " +-- \u001b[31m>\u001b[0m \u001b[36mchanges\u001b[0m/change/\u001b[32mNNS\u001b[0m (\u001b[33mdobj\u001b[0m) \n",
      " |   +-- \u001b[31m<\u001b[0m \u001b[36mice\u001b[0m/ice/\u001b[32mNN\u001b[0m (\u001b[33mcompound\u001b[0m) \n",
      " |       +-- \u001b[31m<\u001b[0m \u001b[36msea\u001b[0m/sea/\u001b[32mNN\u001b[0m (\u001b[33mcompound\u001b[0m) \n",
      " +-- \u001b[31m>\u001b[0m \u001b[36msince\u001b[0m/since/\u001b[32mIN\u001b[0m (\u001b[33mprep\u001b[0m) \n",
      " |   +-- \u001b[31m>\u001b[0m \u001b[36m1979\u001b[0m/1979/\u001b[32mCD\u001b[0m (\u001b[33mpobj\u001b[0m) \u001b[35m{DATE}\u001b[0m\n",
      " +-- \u001b[31m>\u001b[0m \u001b[36m.\u001b[0m/./\u001b[32m.\u001b[0m (\u001b[33mpunct\u001b[0m) \n",
      "     +-- \u001b[31m>\u001b[0m \u001b[36m\u001b[0m//\u001b[32m\u001b[0m (\u001b[33m\u001b[0m) \n"
     ]
    },
    {
     "data": {
      "text/html": [
       "<span style=\"color:#a65628\"><span style=\"font-weight:bold;font-size:14pt\">(</span><span style=\"color:#377eb8\"><span style=\"font-weight:bold;font-size:13pt\">(</span><span style=\"font-size:13pt\"><span style=\"font-weight:bold;color:#377eb8\">have</span></span> <span style=\"color:#4daf4a\"><span style=\"font-weight:bold;font-size:12pt\">(</span><span style=\"font-size:12pt\"><span style=\"font-weight:bold;color:#4daf4a\">been</span></span> <span style=\"font-size:12pt\"><span style=\"font-weight:bold;color:#404040\">tracking</span></span><span style=\"color:#4daf4a\">\n",
       "            <span style=\"font-weight:bold;font-size:12pt\">)</span>\n",
       "        </span><span style=\"color:#377eb8\">\n",
       "            <span style=\"font-weight:bold;font-size:13pt\">)</span>\n",
       "        </span></span></span> <div style=\"margin-left:20px;color:#377eb8\"><span style=\"font-weight:bold;font-size:13pt\">[</span><span style=\"font-size:13pt\"><span style=\"font-weight:bold;color:#377eb8\">and</span></span> <div style=\"margin-left:20px;color:#4daf4a\"><span style=\"font-weight:bold;font-size:12pt\">[</span><span style=\"font-size:12pt\"><span style=\"font-weight:bold;color:#4daf4a\">from</span></span> <span style=\"font-size:12pt\"><span style=\"color:#404040\">satellites</span></span> <span style=\"font-size:12pt\"><span style=\"color:#404040\">nasa</span></span><span style=\"color:#4daf4a\">\n",
       "            <span style=\"font-weight:bold;font-size:12pt\">]</span>\n",
       "        </span></div> <div style=\"margin-left:20px;color:#4daf4a\"><span style=\"font-weight:bold;font-size:12pt\">[</span><span style=\"font-size:12pt\"><span style=\"font-weight:bold;color:#4daf4a\">the</span></span> <span style=\"color:#984ea3\"><span style=\"font-weight:bold;font-size:11pt\">[</span><span style=\"font-size:11pt\"><span style=\"font-weight:bold;color:#984ea3\">other</span></span> <span style=\"font-size:11pt\"><span style=\"color:#404040\">agencies</span></span><span style=\"color:#984ea3\">\n",
       "            <span style=\"font-weight:bold;font-size:11pt\">]</span>\n",
       "        </span><span style=\"color:#4daf4a\">\n",
       "            <span style=\"font-weight:bold;font-size:12pt\">]</span>\n",
       "        </span><span style=\"color:#377eb8\">\n",
       "            <span style=\"font-weight:bold;font-size:13pt\">]</span>\n",
       "        </span></span></div></div> <div style=\"margin-left:20px;color:#377eb8\"><span style=\"font-weight:bold;font-size:13pt\">[</span><span style=\"font-size:13pt\"><span style=\"font-weight:bold;color:#377eb8\">+</span></span> <span style=\"font-size:13pt\"><span style=\"color:#404040\">sea</span></span> <span style=\"font-size:13pt\"><span style=\"color:#404040\">ice</span></span> <span style=\"font-size:13pt\"><span style=\"color:#404040\">changes</span></span><span style=\"color:#377eb8\">\n",
       "            <span style=\"font-weight:bold;font-size:13pt\">]</span>\n",
       "        </span></div> <div style=\"margin-left:20px;color:#377eb8\"><span style=\"font-weight:bold;font-size:13pt\">{</span><span style=\"font-size:13pt\"><span style=\"font-weight:bold;color:#377eb8\">since</span></span> <span style=\"font-size:13pt\"><span style=\"color:#404040\">1979</span></span><span style=\"color:#377eb8\">\n",
       "            <span style=\"font-weight:bold;font-size:13pt\">}</span>\n",
       "        </span><span style=\"color:#a65628\">\n",
       "            <span style=\"font-weight:bold;font-size:14pt\">)</span>\n",
       "        </span></div></span>"
      ],
      "text/plain": [
       "<IPython.core.display.HTML object>"
      ]
     },
     "metadata": {},
     "output_type": "display_data"
    }
   ],
   "source": [
    "# change to whatever you like...\n",
    "text = \"\"\"\n",
    "The Turing test, developed by Alan Turing in 1950, is a test of machine intelligence.\n",
    "\"\"\"\n",
    "\n",
    "roots_only = True\n",
    "compact = False\n",
    "tree = False\n",
    "\n",
    "parses = parser.parse(text)\n",
    "for parse in parses:\n",
    "    if tree:\n",
    "        print_tree(parse['spacy_sentence'].root)\n",
    "    show(parse['main_edge'], roots_only=roots_only, compact=compact)"
   ]
  }
 ],
 "metadata": {
  "kernelspec": {
   "display_name": "Python 3",
   "language": "python",
   "name": "python3"
  },
  "language_info": {
   "codemirror_mode": {
    "name": "ipython",
    "version": 3
   },
   "file_extension": ".py",
   "mimetype": "text/x-python",
   "name": "python",
   "nbconvert_exporter": "python",
   "pygments_lexer": "ipython3",
   "version": "3.6.5"
  }
 },
 "nbformat": 4,
 "nbformat_minor": 2
}
