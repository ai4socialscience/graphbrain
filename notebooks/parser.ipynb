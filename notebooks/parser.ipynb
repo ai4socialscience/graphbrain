{
 "cells": [
  {
   "cell_type": "markdown",
   "metadata": {},
   "source": [
    "# Graphbrain parser\n",
    "\n",
    "This notebook is a simple demonstration of the Graphbrain parser, which transforms a sentence in natural language into an hyperedge."
   ]
  },
  {
   "cell_type": "code",
   "execution_count": 7,
   "metadata": {},
   "outputs": [],
   "source": [
    "# simple functions to interact with Graphbrain from notebooks\n",
    "from graphbrain.notebook import *\n",
    "# the parser\n",
    "from graphbrain.meaning.parser import Parser\n",
    "# function to visualize parse trees\n",
    "from graphbrain.meaning.nlpvis import print_tree"
   ]
  },
  {
   "cell_type": "markdown",
   "metadata": {},
   "source": [
    "**Note**: When the cell bellow is run, the parser is initalized. This can take from a few seconds to a minute."
   ]
  },
  {
   "cell_type": "code",
   "execution_count": 2,
   "metadata": {},
   "outputs": [],
   "source": [
    "# include part-of-speech tags in atoms\n",
    "pos = True\n",
    "\n",
    "# create the parser object\n",
    "parser = Parser(lang='en', pos=pos)"
   ]
  },
  {
   "cell_type": "code",
   "execution_count": 153,
   "metadata": {
    "scrolled": true
   },
   "outputs": [
    {
     "data": {
      "text/html": [
       "<span style=\"color:#a65628\"><span style=\"font-weight:bold;font-size:14pt\">(</span><span style=\"color:#377eb8\"><span style=\"font-weight:bold;font-size:13pt\">(</span><span style=\"font-size:13pt\"><span style=\"font-weight:bold;color:#377eb8\">have</span></span> <span style=\"color:#4daf4a\"><span style=\"font-weight:bold;font-size:12pt\">(</span><span style=\"font-size:12pt\"><span style=\"font-weight:bold;color:#4daf4a\">been</span></span> <span style=\"font-size:12pt\"><span style=\"font-weight:bold;color:#404040\">tracking</span></span><span style=\"color:#4daf4a\">\n",
       "            <span style=\"font-weight:bold;font-size:12pt\">)</span>\n",
       "        </span><span style=\"color:#377eb8\">\n",
       "            <span style=\"font-weight:bold;font-size:13pt\">)</span>\n",
       "        </span></span></span> <div style=\"margin-left:20px;color:#377eb8\"><span style=\"font-weight:bold;font-size:13pt\">[</span><span style=\"font-size:13pt\"><span style=\"font-weight:bold;color:#377eb8\">from</span></span> <span style=\"font-size:13pt\"><span style=\"color:#404040\">satellites</span></span> <div style=\"margin-left:20px;color:#4daf4a\"><span style=\"font-weight:bold;font-size:12pt\">[</span><span style=\"font-size:12pt\"><span style=\"font-weight:bold;color:#4daf4a\">and</span></span> <span style=\"font-size:12pt\"><span style=\"color:#404040\">nasa</span></span> <div style=\"margin-left:20px;color:#984ea3\"><span style=\"font-weight:bold;font-size:11pt\">[</span><span style=\"font-size:11pt\"><span style=\"font-weight:bold;color:#984ea3\">other</span></span> <span style=\"font-size:11pt\"><span style=\"color:#404040\">agencies</span></span><span style=\"color:#984ea3\">\n",
       "            <span style=\"font-weight:bold;font-size:11pt\">]</span>\n",
       "        </span><span style=\"color:#4daf4a\">\n",
       "            <span style=\"font-weight:bold;font-size:12pt\">]</span>\n",
       "        </span><span style=\"color:#377eb8\">\n",
       "            <span style=\"font-weight:bold;font-size:13pt\">]</span>\n",
       "        </span></div></div></div> <div style=\"margin-left:20px;color:#377eb8\"><span style=\"font-weight:bold;font-size:13pt\">[</span><span style=\"font-size:13pt\"><span style=\"font-weight:bold;color:#377eb8\">+</span></span> <span style=\"font-size:13pt\"><span style=\"color:#404040\">sea</span></span> <span style=\"font-size:13pt\"><span style=\"color:#404040\">ice</span></span> <span style=\"font-size:13pt\"><span style=\"color:#404040\">changes</span></span><span style=\"color:#377eb8\">\n",
       "            <span style=\"font-weight:bold;font-size:13pt\">]</span>\n",
       "        </span></div> <div style=\"margin-left:20px;color:#377eb8\"><span style=\"font-weight:bold;font-size:13pt\">{</span><span style=\"font-size:13pt\"><span style=\"font-weight:bold;color:#377eb8\">since</span></span> <span style=\"font-size:13pt\"><span style=\"color:#404040\">1979</span></span><span style=\"color:#377eb8\">\n",
       "            <span style=\"font-weight:bold;font-size:13pt\">}</span>\n",
       "        </span><span style=\"color:#a65628\">\n",
       "            <span style=\"font-weight:bold;font-size:14pt\">)</span>\n",
       "        </span></div></span>"
      ],
      "text/plain": [
       "<IPython.core.display.HTML object>"
      ]
     },
     "metadata": {},
     "output_type": "display_data"
    },
    {
     "data": {
      "text/html": [
       "<span style=\"color:#a65628\"><span style=\"font-weight:bold;font-size:14pt\">(</span><span style=\"font-size:14pt\"><span style=\"font-weight:bold;color:#a65628\">is</span></span> <div style=\"margin-left:20px;color:#377eb8\"><span style=\"font-weight:bold;font-size:13pt\">[</span><span style=\"font-size:13pt\"><span style=\"font-weight:bold;color:#377eb8\">my</span></span> <span style=\"font-size:13pt\"><span style=\"color:#404040\">name</span></span><span style=\"color:#377eb8\">\n",
       "            <span style=\"font-weight:bold;font-size:13pt\">]</span>\n",
       "        </span></div> <span style=\"font-size:14pt\"><span style=\"color:#404040\">telmo</span></span><span style=\"color:#a65628\">\n",
       "            <span style=\"font-weight:bold;font-size:14pt\">)</span>\n",
       "        </span></span>"
      ],
      "text/plain": [
       "<IPython.core.display.HTML object>"
      ]
     },
     "metadata": {},
     "output_type": "display_data"
    }
   ],
   "source": [
    "# change to whatever you like...\n",
    "text = \"\"\"\n",
    "The Turing test, developed by Alan Turing in 1950, is a test of machine intelligence.\n",
    "\"\"\"\n",
    "\n",
    "text = \"\"\"\n",
    "Satellites from NASA and other agencies have been tracking sea ice changes since 1979.\n",
    "\"\"\"\n",
    "\n",
    "roots_only = True\n",
    "compact = False\n",
    "tree = False\n",
    "\n",
    "parses = parser.parse(text)\n",
    "for parse in parses:\n",
    "    if tree:\n",
    "        print_tree(parse['spacy_sentence'].root)\n",
    "    show(parse['main_edge'], roots_only=roots_only, compact=compact)"
   ]
  },
  {
   "cell_type": "code",
   "execution_count": 5,
   "metadata": {},
   "outputs": [],
   "source": [
    "%load_ext autoreload\n",
    "%autoreload 2"
   ]
  }
 ],
 "metadata": {
  "kernelspec": {
   "display_name": "Python 3",
   "language": "python",
   "name": "python3"
  },
  "language_info": {
   "codemirror_mode": {
    "name": "ipython",
    "version": 3
   },
   "file_extension": ".py",
   "mimetype": "text/x-python",
   "name": "python",
   "nbconvert_exporter": "python",
   "pygments_lexer": "ipython3",
   "version": "3.6.5"
  }
 },
 "nbformat": 4,
 "nbformat_minor": 2
}
